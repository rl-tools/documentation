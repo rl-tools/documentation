{
 "cells": [
  {
   "attachments": {},
   "cell_type": "markdown",
   "id": "aba33bb1-8ea7-49a1-a0f7-be1501481371",
   "metadata": {},
   "source": [
    "# Containers\n",
    "\n",
    "<a href=\"https://mybinder.org/v2/gh/BackpropTools/documentation/master?labpath=Containers.ipynb\">\n",
    "  <img src=\"https://mybinder.org/badge_logo.svg\" alt=\"Run on Binder\">\n",
    "  </a>"
   ]
  },
  {
   "attachments": {},
   "cell_type": "markdown",
   "id": "fa73eb2e",
   "metadata": {},
   "source": [
    "Some examples of using containers (only 2D matrices for now)\n",
    "\n",
    "Since `BackpropTools` is a header-only library we only need to point to where its `include` folder is located (cloned or mounted at `/usr/local/include/backprop_tools` in the docker)."
   ]
  },
  {
   "cell_type": "code",
   "execution_count": 1,
   "id": "5133ca42-823b-49cc-b8d1-e045a80af91c",
   "metadata": {
    "scrolled": true
   },
   "outputs": [],
   "source": [
    "#pragma cling add_include_path(\"/usr/local/include\")"
   ]
  },
  {
   "attachments": {},
   "cell_type": "markdown",
   "id": "d50b4e3d-808c-4354-a9fd-6a5bfa8dcc71",
   "metadata": {},
   "source": [
    "Most operations in `BackpropTools` are generic and work on any device that supports a C++ 17 compiler (standard library support not required). But there are some device-specific functions like random number generation that are device dependent and hence might require specific implementations that are and often can only be included on that particular device (e.g. Intel CPU, CUDA GPU) hence we include the CPU implementations in this example. In this case, the CPU implementations entail a dependency on a few standard library objects (`size_t`, random number generation, logging, etc.). At the same time also all the basic generic functions that operate e.g. over containers are included."
   ]
  },
  {
   "cell_type": "code",
   "execution_count": 2,
   "id": "92f790c3-4526-4d7d-9d6a-c26a3191ee94",
   "metadata": {
    "scrolled": true
   },
   "outputs": [],
   "source": [
    "#include <backprop_tools/operations/cpu.h>"
   ]
  },
  {
   "attachments": {},
   "cell_type": "markdown",
   "id": "80c74b0a-cdbd-45de-b405-5c9b4cf60927",
   "metadata": {},
   "source": [
    "All objects in `BackpropTools` are encapsulated in the `backprop_tools` namespace and there is no global state (not even for logging etc.). In programs using `BackpropTools` we usually abbreviate the namespace `backprop_tools` to `bpt` and define three shorthands for frequently used types. Firstly, `DEVICE` is the selected device type, `T` is the floating point type used (usually `float` or `double`, where `float` can e.g. be preferable for vastly better performance on accelerators). Moreover, we define `TI` as the index type which usually should be the `size_t` for the device (to match the device's hardware and provide the best performance). All algorithms and data structures in `BackpropTools` are agnostic to these types by using the template metaprogramming capabilities of C++. Additionally the `DEVICE` type is usually used for a static, compile-time version of [multiple dispatch](https://en.wikipedia.org/wiki/Multiple_dispatch) to dispatch certain functions (like e.g. a neural network layer forward pass) to code that is optimized for a particular device. Through this design, the same higher-level algorithms can be executed on all sorts of devices from HPC clusters over workstations and laptops to smartphones, smartwatches, and microcontrollers without sacrificing performance. Through template metaprogramming e.g. all the matrix dimensions and the number of for-loop iterations are known a priori at compile time and can be used by the compiler to heavily optimize the code through loop unrolling, inlining etc."
   ]
  },
  {
   "cell_type": "code",
   "execution_count": 3,
   "id": "2fc4a281-4014-4283-a04a-b9648bd74a21",
   "metadata": {},
   "outputs": [],
   "source": [
    "namespace bpt = backprop_tools;\n",
    "using DEVICE = bpt::devices::DefaultCPU;\n",
    "using T = float;\n",
    "using TI = typename DEVICE::index_t;"
   ]
  },
  {
   "attachments": {},
   "cell_type": "markdown",
   "id": "ba162f13-7340-43fe-97bb-0b35ad0e54b2",
   "metadata": {},
   "source": [
    "In the following we instantiate a device struct. The `DEVICE` struct can be empty and hence have no overhead but facilitate [tag dispatch](https://www.fluentcpp.com/2018/04/27/tag-dispatching/). It can also be used as a carrier for additional context that would otherwise be implemented as global state (e.g. logging through a Tensorboard logger). In the first example we will create a matrix and fill it with random numbers (from an isotropic, standard normal distribution) hence we define the initial seed for our random number generator which is instantiated depending on the device type. This allows us to easily change the `DEVICE` definition and have all downstream entities be appropriate for the particular device. Finally, we are creating a matrix. Particularly a dynamic (heap allocated) `10x10` matrix. The static, compile-time configuration of the matrix is defined by a specification type (`bpt::matrix::Specification<ELEMENT_TYPE, INDEX_TYPE, ROWS, COLS>`) that carries the types and compile-time constants. Compiling these attributes into a separate specification instead of having numerous template parameters on the `bpt::MatrixDynamic` type brings the benefit that writing functions that take matrices as input becomes easier as we just have to add a `typename SPEC` parameter to the template. We can still constrain the usage of a function with only matrices having particular attributes through e.g. `static_assert` and [SFINAE](https://en.wikipedia.org/wiki/Substitution_failure_is_not_an_error). Moreover we can add attributes without breaking functions that are written this way. "
   ]
  },
  {
   "cell_type": "code",
   "execution_count": 4,
   "id": "31ca1109-d829-49da-97d8-ecd9d0a6ee60",
   "metadata": {},
   "outputs": [],
   "source": [
    "DEVICE device;\n",
    "TI seed = 1;\n",
    "auto rng = bpt::random::default_engine(DEVICE::SPEC::RANDOM(), seed);\n",
    "bpt::MatrixDynamic<bpt::matrix::Specification<T, TI, 10, 10>> m;"
   ]
  },
  {
   "attachments": {},
   "cell_type": "markdown",
   "id": "00d2ce6b-7751-44c9-b5ef-f99e27229b15",
   "metadata": {},
   "source": [
    "Since we created a dynamic matrix (which just consists of a pointer to the beginning of a memory space) we need to allocate it which is done using `bpt::malloc`. As with all functions in `BackpropTools` it takes the `device` as an input because it provides the (global) context and in this case can be helpful to e.g. align the allocated memory space to certain boundaries to allow for maximum read-write performance for a particular device. "
   ]
  },
  {
   "cell_type": "code",
   "execution_count": 5,
   "id": "87d40a7c-6fa5-4506-aa4e-31914f7d17ef",
   "metadata": {},
   "outputs": [],
   "source": [
    "bpt::malloc(device, m);"
   ]
  },
  {
   "attachments": {},
   "cell_type": "markdown",
   "id": "80bb5d7f-1234-478a-b4bb-5e312ffa372f",
   "metadata": {},
   "source": [
    "The memory space is usually not initialized hence we fill it with random numbers (from"
   ]
  },
  {
   "cell_type": "code",
   "execution_count": 6,
   "id": "eeddd889-48a9-4c5a-b058-8701349d26c6",
   "metadata": {},
   "outputs": [],
   "source": [
    "bpt::randn(device, m, rng);"
   ]
  },
  {
   "cell_type": "code",
   "execution_count": 7,
   "id": "137d15da-a5d5-4d7b-a295-cf553968575f",
   "metadata": {},
   "outputs": [
    {
     "name": "stdout",
     "output_type": "stream",
     "text": [
      "   -0.259093    -1.498961     0.119264     0.458181     0.394975     0.044197    -0.636256     1.731264     0.703151     0.093670 \n",
      "    0.261021     1.681428     0.175199    -0.863064     1.316539     0.942564    -0.589718     0.860456    -0.466873    -0.131742 \n",
      "   -0.791712    -1.047298     0.955371     0.010280    -2.004114    -0.004067    -0.421684    -2.418405     0.437689    -2.365531 \n",
      "    0.767131    -0.099710     0.330197     0.901309    -0.758204     0.194977     1.118910     1.144450    -0.580469    -1.985784 \n",
      "   -0.849881     0.238523    -0.144153     0.964104     1.058029    -0.439270    -0.684892    -0.252201    -0.550643     0.314101 \n",
      "    0.449707    -1.496240    -1.182625     1.128331     0.534473    -1.149645    -0.047586     0.200894    -0.077486     0.556771 \n",
      "   -0.255667     1.047707     0.349268     1.211398    -0.153502    -1.266214    -1.096914    -0.118738    -0.195314    -0.589057 \n",
      "   -0.232575    -0.648918    -1.168488     0.615280     0.593480     0.683434     1.215547    -0.237074     0.139196     1.265813 \n",
      "    1.123716    -0.459374     1.143152    -0.193626     1.005374     1.669958     0.398836     0.635710     0.065441    -0.735393 \n",
      "   -0.095400     1.233589    -1.121150     0.254688    -0.275574     0.158218    -0.158582     1.382706    -1.217008     1.364427 \n"
     ]
    }
   ],
   "source": [
    "bpt::print(device, m);"
   ]
  }
 ],
 "metadata": {
  "kernelspec": {
   "display_name": "C++17",
   "language": "C++17",
   "name": "xcpp17"
  },
  "language_info": {
   "codemirror_mode": "text/x-c++src",
   "file_extension": ".cpp",
   "mimetype": "text/x-c++src",
   "name": "c++",
   "version": "17"
  }
 },
 "nbformat": 4,
 "nbformat_minor": 5
}
