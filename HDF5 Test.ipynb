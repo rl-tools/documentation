{
 "cells": [
  {
   "cell_type": "code",
   "execution_count": 6,
   "id": "9d37b15c-4235-41d9-b873-6f3a0cb13fe7",
   "metadata": {},
   "outputs": [],
   "source": [
    "// #pragma cling add_include_path(\"/usr/local/include\")\n",
    "// #pragma cling add_include_path(\"/home/jonas/miniconda2/envs/cling/include\")\n",
    "#pragma cling add_include_path(\"/BackpropTools/external/highfive/include\")"
   ]
  },
  {
   "cell_type": "code",
   "execution_count": 3,
   "id": "b0925012-742d-4f55-8b7e-b80a32388a27",
   "metadata": {},
   "outputs": [],
   "source": [
    "#pragma cling load(\"/opt/conda/lib/libhdf5.so\")"
   ]
  },
  {
   "cell_type": "code",
   "execution_count": 4,
   "id": "1a11f46d-a2c2-4639-ab95-b4d02d0ed2a6",
   "metadata": {},
   "outputs": [],
   "source": [
    "#include <hdf5.h>"
   ]
  },
  {
   "cell_type": "code",
   "execution_count": 7,
   "id": "394d1ac6-9db5-4304-a206-accd228a2b63",
   "metadata": {},
   "outputs": [],
   "source": [
    "#include <highfive/H5File.hpp>"
   ]
  },
  {
   "cell_type": "code",
   "execution_count": 7,
   "id": "7d7da3bc-47d1-4ee7-b3c4-417ca1bc031d",
   "metadata": {},
   "outputs": [],
   "source": [
    "!cd /BackpropTools && sudo git submodule update --init --recursive -- external/highfive"
   ]
  },
  {
   "cell_type": "code",
   "execution_count": 5,
   "id": "995e4267-5571-4e08-a7b7-14015fdd89e0",
   "metadata": {},
   "outputs": [
    {
     "name": "stdout",
     "output_type": "stream",
     "text": [
      "H5Attribute.hpp\n",
      "H5DataSet.hpp\n",
      "H5DataSpace.hpp\n",
      "H5DataType.hpp\n",
      "H5Easy.hpp\n",
      "H5Exception.hpp\n",
      "H5File.hpp\n",
      "H5FileDriver.hpp\n",
      "H5Group.hpp\n",
      "H5Object.hpp\n",
      "H5PropertyList.hpp\n",
      "H5Reference.hpp\n",
      "H5Selection.hpp\n",
      "H5Utility.hpp\n",
      "H5Version.hpp.in\n",
      "bits\n",
      "h5easy_bits\n"
     ]
    }
   ],
   "source": [
    "!ls /BackpropTools/external/highfive/include/highfive"
   ]
  },
  {
   "cell_type": "code",
   "execution_count": 9,
   "id": "2135d34a-4dbc-46b2-a97d-87c08bf7bf6c",
   "metadata": {},
   "outputs": [
    {
     "name": "stdout",
     "output_type": "stream",
     "text": [
      "du: cannot access '/data/mnist.hdf5': No such file or directory\n"
     ]
    }
   ],
   "source": [
    "#include"
   ]
  },
  {
   "cell_type": "code",
   "execution_count": null,
   "id": "43b1acc2-5b09-43c2-9353-4fe483acf749",
   "metadata": {},
   "outputs": [],
   "source": [
    "!ls /usr/include/x86_64-linux-gnu/bits/libc*"
   ]
  },
  {
   "cell_type": "code",
   "execution_count": 13,
   "id": "8ae4872e-49b3-4a22-b3fb-42188ee85450",
   "metadata": {},
   "outputs": [],
   "source": [
    "std::string dataset_path = \"/home/mambauser/mnist.hdf5\";"
   ]
  },
  {
   "cell_type": "code",
   "execution_count": 14,
   "id": "77226a3d-9fb6-46bc-89d3-3e180d189358",
   "metadata": {},
   "outputs": [],
   "source": [
    "auto data_file = HighFive::File(dataset_path, HighFive::File::ReadOnly);"
   ]
  },
  {
   "cell_type": "code",
   "execution_count": 21,
   "id": "f284f8ac-1fc6-402b-8459-1252b61c2982",
   "metadata": {},
   "outputs": [
    {
     "data": {
      "text/plain": [
       "{ \"test\", \"train\" }"
      ]
     },
     "execution_count": 21,
     "metadata": {},
     "output_type": "execute_result"
    }
   ],
   "source": [
    "data_file.listObjectNames()"
   ]
  },
  {
   "cell_type": "code",
   "execution_count": 22,
   "id": "3cfb0ce3-9095-46da-8703-a4b549cf9468",
   "metadata": {},
   "outputs": [],
   "source": [
    "auto group = data_file.getGroup(\"train\")"
   ]
  },
  {
   "cell_type": "code",
   "execution_count": 23,
   "id": "14b5f452-4d73-4538-8c40-80bd363c2d90",
   "metadata": {},
   "outputs": [
    {
     "data": {
      "text/plain": [
       "{ \"inputs\", \"labels\" }"
      ]
     },
     "execution_count": 23,
     "metadata": {},
     "output_type": "execute_result"
    }
   ],
   "source": [
    "group.listObjectNames()"
   ]
  },
  {
   "cell_type": "code",
   "execution_count": 25,
   "id": "8a5241ad-657b-4eca-b0cd-bebc32363596",
   "metadata": {},
   "outputs": [],
   "source": [
    "auto dataset = group.getDataSet(\"inputs\")"
   ]
  },
  {
   "cell_type": "code",
   "execution_count": 27,
   "id": "2b8e8615-d209-4341-b60b-9ceb3a01479e",
   "metadata": {},
   "outputs": [
    {
     "data": {
      "text/plain": [
       "{ 60000, 784 }"
      ]
     },
     "execution_count": 27,
     "metadata": {},
     "output_type": "execute_result"
    }
   ],
   "source": [
    "dataset.getSpace().getDimensions()"
   ]
  },
  {
   "cell_type": "code",
   "execution_count": null,
   "id": "ff1fe791-5581-4a27-aa4c-d28b4f25b838",
   "metadata": {},
   "outputs": [],
   "source": []
  }
 ],
 "metadata": {
  "kernelspec": {
   "display_name": "C++17",
   "language": "C++17",
   "name": "xcpp17"
  },
  "language_info": {
   "codemirror_mode": "text/x-c++src",
   "file_extension": ".cpp",
   "mimetype": "text/x-c++src",
   "name": "c++",
   "version": "17"
  }
 },
 "nbformat": 4,
 "nbformat_minor": 5
}
