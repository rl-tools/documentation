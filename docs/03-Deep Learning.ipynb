{
 "cells": [
  {
   "attachments": {},
   "cell_type": "markdown",
   "id": "59e2340b-bd7f-444c-b170-3cf25395df3d",
   "metadata": {},
   "source": [
    "# Deep Learning\n",
    "\n",
    "[![Binder](https://mybinder.org/badge_logo.svg)](https://mybinder.org/v2/gh/rl-tools/documentation/binder?labpath=03-Deep%20Learning.ipynb)"
   ]
  },
  {
   "attachments": {},
   "cell_type": "markdown",
   "id": "86a2835f-e821-4026-b901-f75413a07372",
   "metadata": {},
   "source": [
    "Because of the static multiple dispatch paradigm layed out in [Multiple Dispatch](./02-Multiple%20Dispatch.ipynb), we need to first include the primitive operations for the device(s) we are inteding on using such that the algorithms (and datastructures) we later include for deep learning can use them."
   ]
  },
  {
   "cell_type": "code",
   "execution_count": 1,
   "id": "ad0b4658-4f41-4893-8680-710851f9ddf3",
   "metadata": {
    "scrolled": true
   },
   "outputs": [],
   "source": [
    "#include <rl_tools/operations/cpu.h>"
   ]
  },
  {
   "cell_type": "code",
   "execution_count": 2,
   "id": "2094df96-089b-4e95-acee-780a1c8ddc5c",
   "metadata": {},
   "outputs": [],
   "source": [
    "#include <rl_tools/nn/layers/dense/operations_cpu.h>"
   ]
  },
  {
   "attachments": {},
   "cell_type": "markdown",
   "id": "78774374-12bf-44e5-8e1c-a3818eb4adc5",
   "metadata": {},
   "source": [
    "We set up the environment as described in [Containers](./01-Containers.ipynb):"
   ]
  },
  {
   "cell_type": "code",
   "execution_count": 3,
   "id": "4ecf6cc5-5d1e-4d00-b259-bcf73603aa14",
   "metadata": {},
   "outputs": [],
   "source": [
    "namespace rlt = rl_tools;\n",
    "using DEVICE = rlt::devices::DefaultCPU;\n",
    "using T = float;\n",
    "using TI = typename DEVICE::index_t;\n",
    "DEVICE device;\n",
    "TI seed = 1;\n",
    "auto rng = rlt::random::default_engine(DEVICE::SPEC::RANDOM(), seed);"
   ]
  },
  {
   "attachments": {},
   "cell_type": "markdown",
   "id": "0b9f2c9b-0ddc-4e07-bcd0-73b0ca876083",
   "metadata": {},
   "source": [
    "As justified by our analysis of the reinforcement learnign for continuous control landscape (in the [paper](https://arxiv.org/abs/2306.03530)) in the beginning **RLtools** only supports fully connected neural networks. But we are planning on adding more architectures (especially recurrent neural networks) in the future.\n",
    "\n",
    "We can instantiate a simple layer by first defining its hyperparameters (which are compile-time `constexpr` and types):"
   ]
  },
  {
   "cell_type": "code",
   "execution_count": 4,
   "id": "aa34ef39-917e-420b-818b-09ed88d61ab1",
   "metadata": {},
   "outputs": [],
   "source": [
    "constexpr TI BATCH_SIZE = 1;\n",
    "constexpr TI INPUT_DIM = 5;\n",
    "constexpr TI OUTPUT_DIM = 5;\n",
    "constexpr auto ACTIVATION_FUNCTION = rlt::nn::activation_functions::RELU;"
   ]
  },
  {
   "attachments": {},
   "cell_type": "markdown",
   "id": "7c88fd32-7ac5-41da-84c9-51b6a6301420",
   "metadata": {},
   "source": [
    "These hyperparameters and other options are combined into a specification type such that it is easier to pass it around and such that we don't need to write out all hyperparameters and options as template parameters when a function takes the datastructure as an argument:"
   ]
  },
  {
   "cell_type": "code",
   "execution_count": 5,
   "id": "c5fcc23f-cd17-4a09-ba45-5a63d05eb296",
   "metadata": {},
   "outputs": [],
   "source": [
    "using LAYER_CONFIG = rlt::nn::layers::dense::Configuration<T, TI, OUTPUT_DIM, ACTIVATION_FUNCTION>;"
   ]
  },
  {
   "cell_type": "markdown",
   "id": "87afcf76-b7e5-4046-ad6b-8034d5a6e853",
   "metadata": {},
   "source": [
    "The data structure of a layer does not only depend on its (previously defined) structure but also on the required capabilities. E.g. if we want to do backward passes, the layer needs to store intermediate activations during the forward pass. Furthermore, the buffers of these intermediate values also depend on the batch size. We decouple the capabilities from the structure specification such that we can easily change the capability of a layer or model (e.g. for checkpointing, where we only want to save the parts required for inference or changing the batch size). "
   ]
  },
  {
   "cell_type": "code",
   "execution_count": 6,
   "id": "4444b486-da4c-48c3-a0cb-4cf5b1e23a55",
   "metadata": {},
   "outputs": [],
   "source": [
    "using CAPABILITY = rlt::nn::capability::Forward<>;"
   ]
  },
  {
   "cell_type": "markdown",
   "id": "feb720a6-658f-47cb-9186-5342ccd5bdac",
   "metadata": {},
   "source": [
    "You might have noticed that the `LAYER_CONFIG` does not specify an input dimensionality. This is because the input shapes automatically cascade through models in RLtools, where the input shape of a subsequent layer is determined by the output shape of the preceding layer. This will make more sense once we introduce the `Sequential` model that combines multiple layers later in this document."
   ]
  },
  {
   "cell_type": "code",
   "execution_count": 7,
   "id": "96efedab-aa95-44a1-a2f3-2007cda1dcd0",
   "metadata": {},
   "outputs": [],
   "source": [
    "using INPUT_SHAPE = rlt::tensor::Shape<TI, BATCH_SIZE, INPUT_DIM>;"
   ]
  },
  {
   "attachments": {},
   "cell_type": "markdown",
   "id": "7a5f9638-5b70-4081-87d9-9ea4057035ff",
   "metadata": {},
   "source": [
    "Using this specification we can declare an actual layer:"
   ]
  },
  {
   "cell_type": "code",
   "execution_count": 8,
   "id": "ea8b7f82-d285-420d-8a6e-6285cfe9df87",
   "metadata": {},
   "outputs": [],
   "source": [
    "rlt::nn::layers::dense::Layer<LAYER_CONFIG, CAPABILITY, INPUT_SHAPE> layer;"
   ]
  },
  {
   "attachments": {},
   "cell_type": "markdown",
   "id": "9646be16-4863-4cdc-99bb-1383838f5b9c",
   "metadata": {},
   "source": [
    "A fully connected neural network consists of layers each implementing: $$y = f(Wx + b)$$ where $x$ is the input (external or from the previous layer), $W$ and $b$ are the weight matrix and biases respectively and $f$ is an element-wise non-linear function. Hence the data structure of a layer should contain at least $W$ and $b$. Because these parameters are containers they need to be allocated:"
   ]
  },
  {
   "cell_type": "code",
   "execution_count": 9,
   "id": "6ca6a927-c634-4421-8c9e-b999007427ec",
   "metadata": {},
   "outputs": [],
   "source": [
    "rlt::malloc(device, layer);"
   ]
  },
  {
   "attachments": {},
   "cell_type": "markdown",
   "id": "4bb20f2d-3ccf-44b6-8bb0-7aa3347e7cb5",
   "metadata": {},
   "source": [
    "Now that the memory is allocated we need to initialize it (because it may contain arbitrary values). We use the standard [Kaiming](https://pytorch.org/docs/stable/nn.init.html?highlight=kaiming#torch.nn.init.kaiming_normal_) initialization scheme:"
   ]
  },
  {
   "cell_type": "code",
   "execution_count": 10,
   "id": "53c95939-dbd0-45de-8ae1-c80235a96e3a",
   "metadata": {},
   "outputs": [],
   "source": [
    "rlt::init_weights(device, layer, rng);"
   ]
  },
  {
   "attachments": {},
   "cell_type": "markdown",
   "id": "e74ee612-947e-4b19-9fde-0af5b2c4621f",
   "metadata": {},
   "source": [
    "We can print $W$ and $b$:"
   ]
  },
  {
   "cell_type": "code",
   "execution_count": 11,
   "id": "cd7991b1-d05d-4806-8e2a-bf44b133230a",
   "metadata": {},
   "outputs": [
    {
     "name": "stdout",
     "output_type": "stream",
     "text": [
      "   -0.211912     0.010027     0.373245    -0.388598    -0.055528 \n",
      "   -0.127251    -0.126478     0.330389     0.238816    -0.412481 \n",
      "   -0.385369    -0.351579    -0.394084    -0.141052    -0.433443 \n",
      "   -0.327643     0.299608    -0.113104    -0.288047     0.322775 \n",
      "   -0.399042    -0.282702    -0.171875     0.296949    -0.087313 \n"
     ]
    }
   ],
   "source": [
    "rlt::print(device, layer.weights.parameters)"
   ]
  },
  {
   "cell_type": "code",
   "execution_count": 12,
   "id": "238c12bc-6f2e-4369-8185-4ebd0f80797b",
   "metadata": {},
   "outputs": [
    {
     "name": "stdout",
     "output_type": "stream",
     "text": [
      "   -0.447200    -0.363058     0.144835     0.238661     0.172029 \n"
     ]
    }
   ],
   "source": [
    "rlt::print(device, layer.biases.parameters)"
   ]
  },
  {
   "attachments": {},
   "cell_type": "markdown",
   "id": "8b1efca3-dac7-4349-b1ec-29303a5e5187",
   "metadata": {},
   "source": [
    "Now that the layer is initialized we can run inference using a random input. We first declare and allocate input and output matrices and then randomly initialize the input:"
   ]
  },
  {
   "cell_type": "code",
   "execution_count": 13,
   "id": "3f75aa99-574c-4824-8465-28ec4196c4e5",
   "metadata": {},
   "outputs": [
    {
     "name": "stdout",
     "output_type": "stream",
     "text": [
      "    0.100807    -0.911862     2.108090     0.094763     0.537630 \n"
     ]
    }
   ],
   "source": [
    "rlt::Matrix<rlt::matrix::Specification<T, TI, BATCH_SIZE, INPUT_DIM>> input;\n",
    "rlt::Matrix<rlt::matrix::Specification<T, TI, BATCH_SIZE, OUTPUT_DIM>> output;\n",
    "rlt::malloc(device, input);\n",
    "rlt::malloc(device, output);\n",
    "rlt::randn(device, input, rng);\n",
    "rlt::print(device, input);"
   ]
  },
  {
   "attachments": {},
   "cell_type": "markdown",
   "id": "a1ec43d4-ce8c-4f95-a3d2-4f2343d1f8d9",
   "metadata": {},
   "source": [
    "Now we can evaluate output of the layer:"
   ]
  },
  {
   "cell_type": "code",
   "execution_count": 14,
   "id": "44fd2759-3415-4ae0-92eb-b87c6e9b992f",
   "metadata": {},
   "outputs": [
    {
     "name": "stdout",
     "output_type": "stream",
     "text": [
      "    0.242450     0.236803     0.000000     0.000000     0.008457 \n"
     ]
    }
   ],
   "source": [
    "decltype(layer)::Buffer<BATCH_SIZE> buffer;\n",
    "rlt::evaluate(device, layer, input, output, buffer, rng);\n",
    "rlt::print(device, output);"
   ]
  },
  {
   "attachments": {},
   "cell_type": "markdown",
   "id": "dc931a9d-80c4-4e81-9467-6e23e2330a7b",
   "metadata": {},
   "source": [
    "Now we are revisiting the capabilities mentioned earlier. \n",
    "For inference storing $W$ and $b$ is sufficient but for training we at least need to also store the gradient of the loss $L$ wrt. $W$ and $b$: $\\frac{\\mathrm{d}L}{\\mathrm{d}W}$ and $\\frac{\\mathrm{d}L}{\\mathrm{d}b}$. Because depending on the optimizer type we might need to store more information per parameter (like the first and second-order moment in the case of [Adam](https://en.wikipedia.org/wiki/Stochastic_gradient_descent#Adam)), we abstract the storage for the weights and biases using a parameter type (defined under the `rl_tools::nn::parameters` namespace) that can e.b. be `Plain`, `Gradient`, `Adam` or any other type extended by the user. For this illustration we are using `Gradient`:"
   ]
  },
  {
   "cell_type": "code",
   "execution_count": 15,
   "id": "bad47751-686d-4a73-9cce-58e08b2f731f",
   "metadata": {},
   "outputs": [],
   "source": [
    "using PARAMETER_TYPE = rlt::nn::parameters::Gradient;\n",
    "using CAPABILITY_2 = rlt::nn::capability::Gradient<PARAMETER_TYPE, BATCH_SIZE>;\n",
    "using LAYER_2_CONFIG = rlt::nn::layers::dense::Configuration<T, TI, OUTPUT_DIM, ACTIVATION_FUNCTION>;\n",
    "rlt::nn::layers::dense::Layer<LAYER_2_CONFIG, CAPABILITY_2, INPUT_SHAPE> layer_2;\n",
    "rlt::malloc(device, layer_2);\n",
    "rlt::copy(device, device, layer, layer_2);\n",
    "rlt::zero_gradient(device, layer_2);"
   ]
  },
  {
   "attachments": {},
   "cell_type": "markdown",
   "id": "f798c2d1-0108-41a9-8c11-2da61c261d06",
   "metadata": {},
   "source": [
    "Note that by using the `rl_tools::nn::capability::Gradient` capability, the `rl_tools::nn::layers::dense::Layer` datastructure contains the necessary buffers (e.g. for itermediate activations) to support the backpropagation algorithm. Additionally, similar to PyTorch we are setting the gradient to zero because it is accumulated with subsequent backward passes.\n",
    "\n",
    "Now we can backpropagate the derivative of the loss wrt. the `output` to calculate the derivative of the loss wrt. the `input`. Hence the derivative of the loss wrt. the `output`: `d_output` is actually an input to the `rl_tools::backward` operator. The operator also accumulates the derivative of the loss wrt. the weights and biases in the layer. We first allocate containers for `d_input` and `d_output` and randomly set `d_output` (a hypothetical gradient of the input of some upstream layers)"
   ]
  },
  {
   "cell_type": "code",
   "execution_count": 16,
   "id": "0f5ed38f-b72b-4e1d-81cc-092a4b830661",
   "metadata": {},
   "outputs": [],
   "source": [
    "rlt::Matrix<rlt::matrix::Specification<T, TI, BATCH_SIZE, OUTPUT_DIM>> d_output;\n",
    "rlt::Matrix<rlt::matrix::Specification<T, TI, BATCH_SIZE, INPUT_DIM>> d_input;\n",
    "rlt::malloc(device, d_input);\n",
    "rlt::malloc(device, d_output);\n",
    "rlt::randn(device, d_output, rng);"
   ]
  },
  {
   "attachments": {},
   "cell_type": "markdown",
   "id": "260d1952-38c1-41a1-93dc-a514522349ff",
   "metadata": {},
   "source": [
    "Now we execute the backpropagation and display the gradient of the loss wrt. the input:"
   ]
  },
  {
   "cell_type": "code",
   "execution_count": 17,
   "id": "480022a0-51f9-4960-9b0e-7d4ad75aa83f",
   "metadata": {},
   "outputs": [
    {
     "name": "stdout",
     "output_type": "stream",
     "text": [
      "Output (should be identical to layer_1): \n",
      "    0.242450     0.236803     0.000000     0.000000     0.008457 \n",
      "Derivative with respect to the input: \n",
      "   -0.214641    -0.065061    -0.232326    -0.153192     0.257247 \n"
     ]
    }
   ],
   "source": [
    "rlt::forward(device, layer_2, input, buffer, rng);\n",
    "std::cout << \"Output (should be identical to layer_1): \" << std::endl;\n",
    "rlt::print(device, layer_2.output);\n",
    "rlt::backward_full(device, layer_2, input, d_output, d_input, buffer);\n",
    "std::cout << \"Derivative with respect to the input: \" << std::endl;\n",
    "rlt::print(device, d_input);"
   ]
  },
  {
   "attachments": {},
   "cell_type": "markdown",
   "id": "2198f28c-4a49-4e86-bbd5-8cfac69f8974",
   "metadata": {},
   "source": [
    "This also accumulates the gradient in the weights and biases:"
   ]
  },
  {
   "cell_type": "code",
   "execution_count": 18,
   "id": "8d2ab5a0-46cc-4e4a-bb2f-023fd34df8fd",
   "metadata": {},
   "outputs": [
    {
     "name": "stdout",
     "output_type": "stream",
     "text": [
      "    0.036480    -0.329980     0.762866     0.034292     0.194555 \n",
      "   -0.080598     0.729055    -1.685465    -0.075765    -0.429848 \n",
      "    0.000000     0.000000     0.000000     0.000000     0.000000 \n",
      "    0.000000     0.000000     0.000000     0.000000     0.000000 \n",
      "    0.060552    -0.547734     1.266280     0.056922     0.322942 \n"
     ]
    }
   ],
   "source": [
    "rlt::print(device, layer_2.weights.gradient);"
   ]
  },
  {
   "cell_type": "code",
   "execution_count": 19,
   "id": "b6cf8127-5d53-4c28-9475-d2a51daa2858",
   "metadata": {},
   "outputs": [
    {
     "name": "stdout",
     "output_type": "stream",
     "text": [
      "    0.361875    -0.799522     0.000000     0.000000     0.600676 \n"
     ]
    }
   ],
   "source": [
    "rlt::print(device, layer_2.biases.gradient);"
   ]
  },
  {
   "cell_type": "code",
   "execution_count": 20,
   "id": "41003240-bc51-4a3c-bfa3-10344e0303c2",
   "metadata": {},
   "outputs": [],
   "source": [
    "rlt::free(device, layer);\n",
    "rlt::free(device, layer_2);\n",
    "rlt::free(device, input);\n",
    "rlt::free(device, output);\n",
    "rlt::free(device, d_input);\n",
    "rlt::free(device, d_output);"
   ]
  },
  {
   "attachments": {},
   "cell_type": "markdown",
   "id": "ca82c3d3-635c-4d06-9469-194af18d39cc",
   "metadata": {},
   "source": [
    "## Multilayer Perceptron (MLP)\n",
    "Until now we showed the behavior of a single, fully-connected layer. **RLtools** contains an [Multilayer Perceptron (MLP)](https://en.wikipedia.org/wiki/Multilayer_perceptron) that conveniently integrates an arbitrary number of layers into a single data structure with algorithms to perform forward passes and backpropagation across the whole model. The MLP is locate under the namespace `rl_tools::nn_models` and we include it as well as the operations of the Adam optimizer:"
   ]
  },
  {
   "cell_type": "code",
   "execution_count": 21,
   "id": "f1919412-7ebb-4ac3-945d-d945ead54224",
   "metadata": {},
   "outputs": [],
   "source": [
    "#include <rl_tools/nn/optimizers/adam/instance/operations_generic.h>\n",
    "#include <rl_tools/nn_models/mlp/operations_generic.h>\n",
    "#include <rl_tools/nn/optimizers/adam/operations_generic.h>"
   ]
  },
  {
   "cell_type": "markdown",
   "id": "4008c79f-d47b-4b99-931f-1b979d0ccff9",
   "metadata": {},
   "source": [
    "Note that the operations of the (Adam) optimizer are split into `instance/operations_generic.h` and `operations_generic.h`. The former contains operations that use and modify the values that are associated with a particular set of parameters (e.g. `weights` or `biases` of a particular layer). An example is the `rl_tools::update` operation that applies the optimizer and in the case of Adam, updates the first and second order moment based on the gradient and then applies the update rule to the parameters. Since these parameters can reside in an arbitrary structure (like an MLP or Sequential `nn_model`) the `rl_tools::update` function is called by an operation that knows about this structure (e.g. the `rl_tools::update` of the `rl_tools::nn_models::mlp` in turn calls the update operations of its layers). These instance-associated operations carry out the bulk of the gradient descent step but are necessarily myopic because they don't know about higher-level structure. Because optimizers like Adam not only have instance-associated state (like the first and second order moments of the gradient) but also global state like the step counter we also include the global `.../adam/operations_generic.h`. \n",
    "\n",
    "The order of the include is dictated by the underlying usage, where we call `rl_tools::update` on the optimizer, providing the model. The optimizer then invokes the update of the model, which invokes the update of its submodels/layers which in turn call the update on then parameter instance. For each step in this chain, the next operation should already be included, hence we arrive at the order used in this example."
   ]
  },
  {
   "attachments": {},
   "cell_type": "markdown",
   "id": "1178b1da-9d39-4fe9-adf8-ecd55ec5280d",
   "metadata": {},
   "source": [
    "Next we define the hyperparameters:"
   ]
  },
  {
   "cell_type": "code",
   "execution_count": 22,
   "id": "e5cac540-074b-4b43-8963-6b6361f22474",
   "metadata": {},
   "outputs": [],
   "source": [
    "constexpr TI INPUT_DIM_MLP = 5;\n",
    "constexpr TI OUTPUT_DIM_MLP = 1;\n",
    "constexpr TI NUM_LAYERS = 3;\n",
    "constexpr TI HIDDEN_DIM = 10;\n",
    "constexpr auto ACTIVATION_FUNCTION_MLP = rlt::nn::activation_functions::RELU;\n",
    "constexpr auto OUTPUT_ACTIVATION_FUNCTION_MLP = rlt::nn::activation_functions::IDENTITY;"
   ]
  },
  {
   "attachments": {},
   "cell_type": "markdown",
   "id": "b04c9794-f234-418c-bc91-4a8311664db4",
   "metadata": {},
   "source": [
    "Note that the MLP supports architectures with an arbitrary depth but each layer has to have the same dimensionality. This is because the layers are stored in an array and hence all need to have the same type. If we would allow for different hidden dimensions, we would have to give up on having arbitrary depths. \n",
    "\n",
    "We aggregate the hyperparameters into a specification again (first just for the structure, later for the full network, incorporating the structure):"
   ]
  },
  {
   "cell_type": "code",
   "execution_count": 23,
   "id": "0e537671-53bc-4de1-bc37-0b709bb78a4d",
   "metadata": {},
   "outputs": [],
   "source": [
    "using MODEL_CONFIG = rlt::nn_models::mlp::Configuration<T, TI, OUTPUT_DIM_MLP, NUM_LAYERS, HIDDEN_DIM, ACTIVATION_FUNCTION_MLP, OUTPUT_ACTIVATION_FUNCTION_MLP>;"
   ]
  },
  {
   "attachments": {},
   "cell_type": "markdown",
   "id": "c61ac86b-1cdb-4b94-a68b-23db38e7386f",
   "metadata": {},
   "source": [
    "We use the default Adam parameters (taken from TensorFlow) and set up the optimizer type using these parameters. Moreover, we create a full network specification for a network that can be trained with Adam which takes the structure specification as an input. Finally we define the full network type:"
   ]
  },
  {
   "cell_type": "code",
   "execution_count": 24,
   "id": "e89b3030-9bf7-4263-8cc0-8e2cd28883fa",
   "metadata": {},
   "outputs": [],
   "source": [
    "using PARAMETER_TYPE = rlt::nn::parameters::Adam;\n",
    "using CAPABILITY = rlt::nn::capability::Gradient<PARAMETER_TYPE>;\n",
    "using OPTIMIZER_SPEC = rlt::nn::optimizers::adam::Specification<T, TI>;\n",
    "using OPTIMIZER = rlt::nn::optimizers::Adam<OPTIMIZER_SPEC>;\n",
    "using MODEL_TYPE = rlt::nn_models::mlp::NeuralNetwork<MODEL_CONFIG, CAPABILITY, INPUT_SHAPE>;"
   ]
  },
  {
   "attachments": {},
   "cell_type": "markdown",
   "id": "41007542-5cfc-474b-87c3-64fdb0636aec",
   "metadata": {},
   "source": [
    "Using these type definitions we can now declare the optimizer and the model. All the optimizer state is contained in the `PARAMETER_TYPE` of the model (and an additional `age` integer in the model in the case of Adam). In comparison to PyTorch which stores the optimizer state in the optimizer, we prefer to store the first and second-order moment next to the parameters like it is the case for the gradient anyways (in PyTorch as well). Hence the optimizer is stateless in this case (does not need to be for user-defined optimizers) and we only need to allocate the model.\n",
    "\n",
    "The backpropagation algorithm needs to store the intermediate gradients. To save memory we do not add a `d_input` or `d_output` to each layer but rather use a double buffer with the maximum size of the hidden representation needed. "
   ]
  },
  {
   "cell_type": "code",
   "execution_count": 25,
   "id": "7c07d799-8447-423e-a347-a55935e5d8b7",
   "metadata": {},
   "outputs": [],
   "source": [
    "OPTIMIZER optimizer;\n",
    "MODEL_TYPE model;\n",
    "typename MODEL_TYPE::Buffer<> buffer;"
   ]
  },
  {
   "attachments": {},
   "cell_type": "markdown",
   "id": "bf615947-981d-4eb4-a434-b5ca6341268b",
   "metadata": {},
   "source": [
    "We allocate the model and set initialize its weights randomly like in the case for the single layer. We are again zeroing the gradient of all parameters of all layers as well as resetting the optimizer state of all parameters of all layers (e.g. in the case of Adam the first and second order moments are set to zero). Finally we also allocate the buffers"
   ]
  },
  {
   "cell_type": "code",
   "execution_count": 26,
   "id": "7afdb190-6cab-4ee9-ad13-f2aa8f0ea378",
   "metadata": {},
   "outputs": [],
   "source": [
    "rlt::malloc(device, model);\n",
    "rlt::init_weights(device, model, rng); // recursively initializes all layers using kaiming initialization\n",
    "rlt::zero_gradient(device, model); // recursively zeros all gradients in the layers\n",
    "rlt::reset_optimizer_state(device, optimizer, model);\n",
    "rlt::malloc(device, buffer);"
   ]
  },
  {
   "attachments": {},
   "cell_type": "markdown",
   "id": "a6099056-a9fa-400a-be14-08345cfe3e9f",
   "metadata": {},
   "source": [
    "In this example we showcase an MLP with a five dimensional input and a one dimensional output (remember the `OUTPUT_ACTIVATION_FUNCTION_MLP` is `IDENTITY` so it can also output negative values). For these new shapes we declare and allocate the input and output containers:"
   ]
  },
  {
   "cell_type": "code",
   "execution_count": 27,
   "id": "a7e5cf51-9565-4838-b7e9-7447d30a5c35",
   "metadata": {},
   "outputs": [],
   "source": [
    "rlt::Matrix<rlt::matrix::Specification<T, TI, BATCH_SIZE, INPUT_DIM_MLP>> input_mlp, d_input_mlp;\n",
    "rlt::Matrix<rlt::matrix::Specification<T, TI, BATCH_SIZE, OUTPUT_DIM_MLP>> d_output_mlp;\n",
    "rlt::malloc(device, input_mlp);\n",
    "rlt::malloc(device, d_input_mlp);\n",
    "rlt::malloc(device, d_output_mlp);"
   ]
  },
  {
   "attachments": {},
   "cell_type": "markdown",
   "id": "cfb8d31e-81dd-4b68-8904-4e273751e532",
   "metadata": {},
   "source": [
    "Now, like in the case of the single layer, we can run a forward pass using the input. Because the model is a Adam model (which is a subclass of `rlt::nn_models::mlp::NeuralNetworkBackwardGradient`), it stores the intermediate (and final) outputs. "
   ]
  },
  {
   "cell_type": "code",
   "execution_count": 28,
   "id": "142b17c6-acf9-484d-9857-286b0a486f76",
   "metadata": {},
   "outputs": [
    {
     "data": {
      "text/plain": [
       "0.506566f"
      ]
     },
     "execution_count": 28,
     "metadata": {},
     "output_type": "execute_result"
    }
   ],
   "source": [
    "rlt::randn(device, input_mlp, rng);\n",
    "rlt::forward(device, model, input_mlp, buffer, rng);\n",
    "T output_value = get(model.output_layer.output, 0, 0);\n",
    "output_value"
   ]
  },
  {
   "attachments": {},
   "cell_type": "markdown",
   "id": "9a4a3357-e0ff-44ba-9156-a3a3b44d7962",
   "metadata": {},
   "source": [
    "Now imagine we want the output of the model (for this input) to be $1$. We calculate the error and feed it back through the model using backpropagation. `d_output_mlp` should be the derivative of the loss function, hence it gives the direction of the output that would increase the loss. Our error is the opposite, if we would move the output into the direction of the error we would come closer to our target value and hence decrease the loss. Because of this, we feed back `-error`. This procedure also corresponds to using a squared loss because `error` is (up to a constant) the derivative of the squared loss."
   ]
  },
  {
   "cell_type": "code",
   "execution_count": 29,
   "id": "4afb8ea0-e3a9-427a-865a-7955789ba283",
   "metadata": {},
   "outputs": [],
   "source": [
    "T target_output_value = 1;\n",
    "T error = target_output_value - output_value;\n",
    "rlt::set(d_output_mlp, 0, 0, -error);\n",
    "rlt::backward(device, model, input_mlp, d_output_mlp, buffer);"
   ]
  },
  {
   "attachments": {},
   "cell_type": "markdown",
   "id": "827ffdc4-af9d-43d0-b9aa-aef03ca9b7df",
   "metadata": {},
   "source": [
    "The backward pass populates the gradient in all parameters of the model. Using this gradient we can apply the `rlt::step` operator which updates the first and second order moments of the gradient of all parameters and afterwards applies the Adam update rule to update the parameters:"
   ]
  },
  {
   "cell_type": "code",
   "execution_count": 30,
   "id": "0d9c41f4-1dbb-4165-934f-d2b602abb9ba",
   "metadata": {},
   "outputs": [],
   "source": [
    "rlt::step(device, optimizer, model);"
   ]
  },
  {
   "attachments": {},
   "cell_type": "markdown",
   "id": "958781a9-5e08-466d-aed2-9099f7de8e39",
   "metadata": {},
   "source": [
    "Now the next forward pass should be closer to the target value:"
   ]
  },
  {
   "cell_type": "code",
   "execution_count": 31,
   "id": "2d906129-b67f-45c2-af9c-8e1cea90cb05",
   "metadata": {},
   "outputs": [
    {
     "data": {
      "text/plain": [
       "0.518496f"
      ]
     },
     "execution_count": 31,
     "metadata": {},
     "output_type": "execute_result"
    }
   ],
   "source": [
    "rlt::forward(device, model, input_mlp, buffer, rng);\n",
    "get(model.output_layer.output, 0, 0)"
   ]
  },
  {
   "attachments": {},
   "cell_type": "markdown",
   "id": "59d21d7e-16a9-4f46-94b7-90a8c52469b6",
   "metadata": {},
   "source": [
    "Next we will train the network to actually perform a function (not only trying to output a constant value as before). With the following training loop we train it to behave like the `rlt::max` operator which outputs the max of the five inputs. We run the forward and backward pass for $32$ iterations while accumulating the gradient which effectively leads to a batch size of $32$"
   ]
  },
  {
   "cell_type": "code",
   "execution_count": 32,
   "id": "97955ba6-c3a6-4245-9256-90e30c44c97e",
   "metadata": {},
   "outputs": [
    {
     "name": "stdout",
     "output_type": "stream",
     "text": [
      "Squared error: 0.643161\n",
      "Squared error: 0.055282\n",
      "Squared error: 0.025145\n",
      "Squared error: 0.016128\n",
      "Squared error: 0.016535\n",
      "Squared error: 0.017536\n",
      "Squared error: 0.011195\n",
      "Squared error: 0.009795\n",
      "Squared error: 0.008141\n",
      "Squared error: 0.013169\n"
     ]
    }
   ],
   "source": [
    "for(TI i=0; i < 10000; i++){\n",
    "    rlt::zero_gradient(device, model);\n",
    "    T mse = 0;\n",
    "    for(TI batch_i=0; batch_i < 32; batch_i++){\n",
    "        rlt::randn(device, input_mlp, rng);\n",
    "        rlt::forward(device, model, input_mlp, buffer, rng);\n",
    "        T output_value = get(model.output_layer.output, 0, 0);\n",
    "        T target_output_value = rlt::max(device, input_mlp);\n",
    "        T error = target_output_value - output_value;\n",
    "        rlt::set(d_output_mlp, 0, 0, -error);\n",
    "        rlt::backward(device, model, input_mlp, d_output_mlp, buffer);\n",
    "        mse += error * error;\n",
    "    }\n",
    "    rlt::step(device, optimizer, model);\n",
    "    if(i % 1000 == 0)\n",
    "    std::cout << \"Squared error: \" << mse/32 << std::endl;\n",
    "}"
   ]
  },
  {
   "attachments": {},
   "cell_type": "markdown",
   "id": "c5416b21-8dfa-4a50-a6a3-4bd160b74d9f",
   "metadata": {},
   "source": [
    "Now we can test the model using some arbitrary input (which should be in the distribution of input values) and the model should output a value close to the maximum of the five input values:"
   ]
  },
  {
   "cell_type": "code",
   "execution_count": 33,
   "id": "2907576e-b957-4ce2-aaba-1ea1da46b1c7",
   "metadata": {},
   "outputs": [
    {
     "data": {
      "text/plain": [
       "0.465697f"
      ]
     },
     "execution_count": 33,
     "metadata": {},
     "output_type": "execute_result"
    }
   ],
   "source": [
    "set(input_mlp, 0, 0, +0.0);\n",
    "set(input_mlp, 0, 1, -0.1);\n",
    "set(input_mlp, 0, 2, +0.5);\n",
    "set(input_mlp, 0, 3, -0.4);\n",
    "set(input_mlp, 0, 4, +0.1);\n",
    "\n",
    "rlt::forward(device, model, input_mlp, buffer, rng);\n",
    "rlt::get(model.output_layer.output, 0, 0)"
   ]
  },
  {
   "attachments": {},
   "cell_type": "markdown",
   "id": "2b3479ea-06b6-4e52-b5d5-1bfc29ef6188",
   "metadata": {},
   "source": [
    "We can also automatically test it with $10$ random inputs:"
   ]
  },
  {
   "cell_type": "code",
   "execution_count": 34,
   "id": "e086ec9b-a48b-412f-86ef-510b915f2e1b",
   "metadata": {},
   "outputs": [
    {
     "name": "stdout",
     "output_type": "stream",
     "text": [
      "max: 0.539628 output: 0.555159\n",
      "max: 1.348390 output: 1.313255\n",
      "max: 1.660528 output: 1.620614\n",
      "max: 1.779285 output: 1.739960\n",
      "max: 1.311534 output: 1.279970\n",
      "max: 0.965693 output: 0.929909\n",
      "max: 2.799156 output: 2.870854\n",
      "max: 1.195009 output: 1.313729\n",
      "max: 0.797983 output: 0.711116\n",
      "max: 0.419951 output: 0.451161\n"
     ]
    }
   ],
   "source": [
    "for(TI i=0; i < 10; i++){\n",
    "    rlt::randn(device, input_mlp, rng);\n",
    "    rlt::forward(device, model, input_mlp, buffer, rng);\n",
    "    std::cout << \"max: \" << rlt::max(device, input_mlp) << \" output: \" << rlt::get(model.output_layer.output, 0, 0) << std::endl;\n",
    "}"
   ]
  },
  {
   "attachments": {},
   "cell_type": "markdown",
   "id": "1f13fabd-a64d-4696-a193-e3fbc163484c",
   "metadata": {},
   "source": [
    "If the values are not close the model might need some more training iterations."
   ]
  },
  {
   "cell_type": "markdown",
   "id": "b7b391a5-9b1a-4c8b-be34-60607b22739c",
   "metadata": {},
   "source": [
    "## Sequential\n",
    "\n",
    "The great advantage of the previously introduced MLP module is that the number of layers is a parameter and hence the architecture can be scaled in width and depth through just two parameters without defining additional types. In many cases more flexibility is required, though, which is why we introduced the Sequential model. \n",
    "\n",
    "The Sequential model follows the `torch.nn.Sequential` and `tensorflow.keras.Sequential` philosophy. Initially, the Sequential model was created to introduce automatic differentiation to RLtools, since the MLP just has a hard-coded backward pass. With the sequential model the user can just specify a sequence of layers and the forward and backward passes are inferred by the compiler at compile-time, automatically. With the addition of the `rlt::Tensor` interface for arbitrary-dimensional containers, the role of Sequential model was amplified as we wanted to move away from hard-coded assumptions about dimensions (like batch dimension or sequence dimension) and move to layers adapting depending on the input shape. This \"adaptation\" of course happens all at compile time to maintain the main philosophy of RLtools that the sizes of all datastructures and loops is known at compile time. \n",
    "\n",
    "With the move to `rlt::Tensor` the sequential interface adopted semantics that are more similar to `tensorflow.keras.Sequential` where the intermediate shapes are inferred based on the input shape as well. Practically this means, that e.g. dense layers or MLPs (yes, MLPs can be \"layers\" inside a Sequential model) broadcast over all leading dimensions except the last one. While e.g. recurrent layers like the GRU are consuming (and outputting) the last three dimensions (`SEQUENCE_LENGTH x BATCH_SIZE x FEATURE_DIM`).\n",
    "\n",
    "In the following we build a three-layer, \"funnel\"-type MLP that we could not build using the `MLP` model because it requires all hidden layers to be of the same dimensionality for the reasons described before. The following specifies the `[32, 16, 4]` MLP with input dim 5:"
   ]
  },
  {
   "cell_type": "code",
   "execution_count": 35,
   "id": "4cc54e34-f1fd-40f7-b6e4-c65b7a178053",
   "metadata": {},
   "outputs": [],
   "source": [
    "#include <rl_tools/nn_models/sequential/operations_generic.h>\n",
    "using namespace rlt::nn_models::sequential;\n",
    "\n",
    "using LAYER_1_CONFIG = rlt::nn::layers::dense::Configuration<T, TI, 32, rlt::nn::activation_functions::ActivationFunction::RELU>;\n",
    "using LAYER_1 = rlt::nn::layers::dense::BindConfiguration<LAYER_1_CONFIG>;\n",
    "using LAYER_2_CONFIG = rlt::nn::layers::dense::Configuration<T, TI, 16, rlt::nn::activation_functions::ActivationFunction::RELU>;\n",
    "using LAYER_2 = rlt::nn::layers::dense::BindConfiguration<LAYER_2_CONFIG>;\n",
    "using LAYER_3_CONFIG = rlt::nn::layers::dense::Configuration<T, TI, 4, rlt::nn::activation_functions::ActivationFunction::IDENTITY>;\n",
    "using LAYER_3 = rlt::nn::layers::dense::BindConfiguration<LAYER_3_CONFIG>;\n",
    "\n",
    "using MODULE_CHAIN = Module<LAYER_1, Module<LAYER_2, Module<LAYER_3>>>;\n",
    "\n",
    "using CAPABILITY = rlt::nn::capability::Forward<>;\n",
    "constexpr TI SEQUENCE_LENGTH = 1;\n",
    "using INPUT_SHAPE = rlt::tensor::Shape<TI, SEQUENCE_LENGTH, BATCH_SIZE, INPUT_DIM_MLP>;\n",
    "\n",
    "using SEQUENTIAL = Build<CAPABILITY, MODULE_CHAIN, INPUT_SHAPE>;"
   ]
  },
  {
   "cell_type": "markdown",
   "id": "33e54e1d-092c-438d-bf41-6be1c12ba5f0",
   "metadata": {},
   "source": [
    "For each layer, we specify a configuration and create a wrapper that binds this configuration. The semantics of this wrapper is that it represents a layer with the given configuration but for any capability or input shape. Technically the wrapper contains a template that is used by the sequential model to actually instantiate the layer with the appropriate capability and input shape. \n",
    "\n",
    "**Capability**: The capability specifies the model's overarching properties and capabilities. The main capability is if the module (and its constituting layers) only supports forward, backward wrt. to the input or backward including the gradient wrt. the parameters. Additionally the capability is also used to specify if the model should be statically or dynamically allocated. The reason we do not specify these attributes in the configuration is that we might want to use a particular model in different ways: e.g. having the critics being capable of backward-gradient but the target critic only being capable of forward inference in TD3/SAC. Furthermore, when checkpointing we probably only want to save the parameters and not the gradient and optimizer state. We will showcase this later\n",
    "\n",
    "**Input Shape**: Similar to the capability, we might want to use the model for different input shapes. It is not compelling to change the `FEATURE_DIM` of the input shape, but it is often desirable to change the `BATCH_SIZE` e.g. between RL training and data-collection/exploration.\n",
    "\n",
    "The API is the same as for other models and layers:"
   ]
  },
  {
   "cell_type": "code",
   "execution_count": 36,
   "id": "e1973dee-69eb-494f-b6b2-74999e9f087a",
   "metadata": {},
   "outputs": [],
   "source": [
    "SEQUENTIAL sequential;\n",
    "SEQUENTIAL::Buffer<> sequential_buffer;\n",
    "rlt::malloc(device, sequential);\n",
    "rlt::malloc(device, sequential_buffer);"
   ]
  },
  {
   "cell_type": "code",
   "execution_count": 37,
   "id": "39f0f44e-2637-486a-be2b-6cb973b6d9c4",
   "metadata": {},
   "outputs": [],
   "source": [
    "rlt::init_weights(device, sequential, rng);"
   ]
  },
  {
   "cell_type": "code",
   "execution_count": 38,
   "id": "09b337e5-8795-4a70-a744-29f83d85f697",
   "metadata": {},
   "outputs": [],
   "source": [
    "rlt::Tensor<rlt::tensor::Specification<T, TI, typename SEQUENTIAL::INPUT_SHAPE, false>> input; // note the \"false\" in the specification making it static/stack-allocated, hence no \"malloc\" is required\n",
    "rlt::Tensor<rlt::tensor::Specification<T, TI, typename SEQUENTIAL::OUTPUT_SHAPE, false>> output;\n",
    "rlt::randn(device, input, rng);"
   ]
  },
  {
   "cell_type": "code",
   "execution_count": 39,
   "id": "6f22d10f-16ec-4986-8ccd-b2021cf28272",
   "metadata": {},
   "outputs": [
    {
     "name": "stdout",
     "output_type": "stream",
     "text": [
      "dim[0] = 0: \n",
      "  -2.716676e-01   6.897645e-02  -2.784356e-02  -1.252805e-01\n",
      "\n"
     ]
    }
   ],
   "source": [
    "rlt::evaluate(device, sequential, input, output, sequential_buffer, rng);\n",
    "rlt::print(device, output);"
   ]
  },
  {
   "cell_type": "markdown",
   "id": "d7728b95-ac75-402f-ac1c-3721e9d3422a",
   "metadata": {},
   "source": [
    "Now if we want to train the model we should have defined the `CAPABILITY` to support backward-gradient. But due to the decoupling from the configuration we can do this in hindsight:"
   ]
  },
  {
   "cell_type": "code",
   "execution_count": 40,
   "id": "6a9108bf-59cc-43cf-8cc5-105d0a4c0d02",
   "metadata": {},
   "outputs": [],
   "source": [
    "using PARAMETER_TYPE = rlt::nn::parameters::Adam;\n",
    "using NEW_CAPABILITY = rlt::nn::capability::Gradient<PARAMETER_TYPE, false>; // note the \"false\" specifies that it is statically allocated, so no \"malloc\" required\n",
    "using NEW_SEQUENTIAL_CAPABILITY = SEQUENTIAL::CHANGE_CAPABILITY<NEW_CAPABILITY>; \n"
   ]
  },
  {
   "cell_type": "markdown",
   "id": "a2e47312-1872-4245-a83a-0c214f899964",
   "metadata": {},
   "source": [
    "Lets also say we want to increase the `BATCH_SIZE` for training:"
   ]
  },
  {
   "cell_type": "code",
   "execution_count": 41,
   "id": "791d6213-2744-45d3-8fa7-b822679bf4de",
   "metadata": {},
   "outputs": [],
   "source": [
    "constexpr TI NEW_BATCH_SIZE = 32;\n",
    "\n",
    "using NEW_SEQUENTIAL = NEW_SEQUENTIAL_CAPABILITY::CHANGE_BATCH_SIZE<TI, NEW_BATCH_SIZE>;\n",
    "\n",
    "NEW_SEQUENTIAL new_sequential;\n",
    "NEW_SEQUENTIAL::Buffer<false> new_sequential_buffer; // \"false\" again specifies a static buffer, no \"malloc\" required\n",
    "rlt::copy(device, device, sequential, new_sequential);"
   ]
  },
  {
   "cell_type": "markdown",
   "id": "af1a1d54-7ed7-4528-b3a8-d159043fac81",
   "metadata": {},
   "source": [
    "Models and layers support smaller batch sizes than specified in the `evaluate` call (as long as the buffer matches the batch size), hence we can check if it still gives the same result:"
   ]
  },
  {
   "cell_type": "code",
   "execution_count": 42,
   "id": "9743068e-8fee-4fc0-9671-acc810226c0a",
   "metadata": {},
   "outputs": [
    {
     "name": "stdout",
     "output_type": "stream",
     "text": [
      "dim[0] = 0: \n",
      "  -2.716676e-01   6.897645e-02  -2.784356e-02  -1.252805e-01\n",
      "\n"
     ]
    }
   ],
   "source": [
    "rlt::evaluate(device, new_sequential, input, output, new_sequential_buffer, rng);\n",
    "rlt::print(device, output);"
   ]
  },
  {
   "cell_type": "markdown",
   "id": "63fb6224-e8e8-4a17-b3ca-569cc5a51e96",
   "metadata": {},
   "source": [
    "Now for the backward pass we need to record intermediate values, which are thrown away for efficiency in the `evaluate` call. Hence we call the `forward` function"
   ]
  },
  {
   "cell_type": "code",
   "execution_count": 43,
   "id": "9a52c1be-4645-44cb-8bb1-5b165975aac0",
   "metadata": {},
   "outputs": [],
   "source": [
    "rlt::Tensor<rlt::tensor::Specification<T, TI, typename NEW_SEQUENTIAL::INPUT_SHAPE, false>> new_input;\n",
    "rlt::randn(device, new_input, rng);\n",
    "\n",
    "rlt::forward(device, new_sequential, new_input, new_sequential_buffer, rng);"
   ]
  },
  {
   "cell_type": "markdown",
   "id": "0fd4b3c3-f8bb-4c34-832b-92220924fcab",
   "metadata": {},
   "source": [
    "After the forward pass we can simulate some loss function by generating a random  $\\frac{\\mathrm{d}L}{\\mathrm{d}\\;\\text{output}}$ and calculating the gradient wrt. the parameters:"
   ]
  },
  {
   "cell_type": "code",
   "execution_count": 44,
   "id": "898f0785-d4ca-4602-b5d1-d230500733d2",
   "metadata": {},
   "outputs": [],
   "source": [
    "rlt::Tensor<rlt::tensor::Specification<T, TI, typename NEW_SEQUENTIAL::OUTPUT_SHAPE, false>> new_d_output;\n",
    "rlt::randn(device, new_d_output, rng);\n",
    "\n",
    "rlt::zero_gradient(device, new_sequential);\n",
    "rlt::backward(device, new_sequential, new_input, new_d_output, new_sequential_buffer);"
   ]
  },
  {
   "cell_type": "code",
   "execution_count": 45,
   "id": "b7e43b39-55ea-4ce7-a78c-52850dbe8f81",
   "metadata": {},
   "outputs": [
    {
     "name": "stdout",
     "output_type": "stream",
     "text": [
      "    0.320461     0.172568    -0.038686    -0.269831     0.269185 \n",
      "    0.067568    -0.187339     0.089244    -0.029956    -0.493866 \n",
      "   -0.077152     0.195330    -0.070027     0.051061     0.254358 \n",
      "    0.322985    -0.273944    -0.381387    -0.221107     0.520769 \n",
      "   -0.298484     0.026869     0.017577     0.050301     0.419451 \n",
      "   -0.378259    -0.467855     0.218961     0.359731    -0.004112 \n",
      "    0.103813    -0.196705    -0.069182    -0.002469     0.115669 \n",
      "   -0.324696     0.523877     0.420453     0.019141    -0.220434 \n",
      "    0.146015    -0.047098    -0.078760    -0.201766    -0.056156 \n",
      "   -0.031791     0.392544    -0.073967     0.002385     0.406896 \n",
      "   -0.576604     0.626401    -0.016995     0.302599    -0.052693 \n",
      "    0.325223    -0.084683     0.175826     0.310664    -0.385406 \n",
      "   -0.042280    -0.267090    -0.178485     0.044999    -0.004504 \n",
      "   -0.284561    -0.243193     0.094030     0.169179     0.079656 \n",
      "    0.173386    -0.351642     0.204653     0.047558     0.153697 \n",
      "    0.154294    -0.035325    -0.305142    -0.308024    -0.828210 \n",
      "   -0.600413     0.165149     0.052111     0.247424     0.352850 \n",
      "    0.438994     0.303696    -0.196991    -0.032276     0.020843 \n",
      "   -0.413299    -0.486740     0.398008    -0.079801    -0.224559 \n",
      "    0.009283    -0.161274    -0.037893     0.253224    -0.235326 \n",
      "   -0.021573     0.113396     0.017783    -0.083122     0.064917 \n",
      "   -0.168050    -0.075272     0.149018     0.147866    -0.182045 \n",
      "    0.703156     0.525455     0.042927     0.439643     0.074443 \n",
      "    0.562241    -0.243317    -0.412354     0.271648     0.734457 \n",
      "   -0.186803     0.137267    -0.138127     0.228056     0.099720 \n",
      "   -0.150418    -0.587200     0.224454     0.163250    -0.756426 \n",
      "    0.179686     0.405630     0.109221    -0.147826     0.124997 \n",
      "    0.350725    -0.368138    -0.383135    -0.435791     0.528348 \n",
      "   -0.046798     0.538072    -0.145205    -0.234868     0.320617 \n",
      "    0.425575    -0.551638     0.328734    -0.025153    -0.846081 \n",
      "    0.363814    -0.414661     0.238195     0.115213    -0.487551 \n",
      "   -0.371508     0.177195     0.037000     0.367933     0.195225 \n"
     ]
    }
   ],
   "source": [
    "rlt::print(device, new_sequential.content.weights.gradient);"
   ]
  }
 ],
 "metadata": {
  "kernelspec": {
   "display_name": "C++17",
   "language": "C++17",
   "name": "xcpp17"
  },
  "language_info": {
   "codemirror_mode": "text/x-c++src",
   "file_extension": ".cpp",
   "mimetype": "text/x-c++src",
   "name": "c++",
   "version": "17"
  }
 },
 "nbformat": 4,
 "nbformat_minor": 5
}
