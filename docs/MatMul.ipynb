{
 "cells": [
  {
   "cell_type": "code",
   "execution_count": 1,
   "id": "6dfc1229-cf7b-40fc-80d8-8cf54fe20ddb",
   "metadata": {},
   "outputs": [],
   "source": [
    "#define BACKPROP_TOOLS_BACKEND_ENABLE_MKL\n",
    "#include <backprop_tools/operations/cpu_mux.h>"
   ]
  },
  {
   "cell_type": "code",
   "execution_count": 2,
   "id": "6b311f6e-db93-48c6-bd53-b78ce219ad83",
   "metadata": {},
   "outputs": [],
   "source": [
    "#ifdef BACKPROP_TOOLS_BACKEND_ENABLE_MKL\n",
    "#pragma cling load(\"mkl_core\")\n",
    "#pragma cling load(\"mkl_intel_thread\")\n",
    "#pragma cling load(\"mkl_intel_ilp64\")\n",
    "#pragma cling load(\"iomp5\")\n",
    "#pragma cling load(\"libpthread.so.0\")\n",
    "#pragma cling load(\"libm.so.6\")\n",
    "#pragma cling load(\"libdl.so.2\")\n",
    "#endif"
   ]
  },
  {
   "cell_type": "code",
   "execution_count": 3,
   "id": "56a96a43-3aec-4cab-9496-6ae7a4020ad3",
   "metadata": {},
   "outputs": [],
   "source": [
    "namespace bpt = backprop_tools;"
   ]
  },
  {
   "cell_type": "code",
   "execution_count": 4,
   "id": "3f34afd1-a1e8-4028-83c2-40a364bb66f3",
   "metadata": {},
   "outputs": [],
   "source": [
    "using DEVICE = bpt::devices::DefaultCPU;\n",
    "using DEVICE_MKL = bpt::devices::DefaultCPU_MKL;\n",
    "using T = float;\n",
    "using TI = typename DEVICE::index_t;"
   ]
  },
  {
   "cell_type": "code",
   "execution_count": 5,
   "id": "89b6b0e1-8818-4e2a-91e8-1c854bccd6f9",
   "metadata": {},
   "outputs": [],
   "source": [
    "bpt::MatrixDynamic<bpt::matrix::Specification<T, TI, 2, 2>> A, B, C, C_mkl;\n",
    "DEVICE device;\n",
    "DEVICE_MKL device_mkl;\n",
    "auto rng = bpt::random::default_engine(typename DEVICE::SPEC::RANDOM(), 1);"
   ]
  },
  {
   "cell_type": "code",
   "execution_count": 6,
   "id": "f2b829da-bf19-413a-85e8-5241a9286f7d",
   "metadata": {},
   "outputs": [],
   "source": [
    "bpt::malloc(device, A);\n",
    "bpt::malloc(device, B);\n",
    "bpt::malloc(device, C);\n",
    "bpt::malloc(device, C_mkl);\n",
    "bpt::randn(device, A, rng);\n",
    "bpt::randn(device, B, rng);"
   ]
  },
  {
   "cell_type": "code",
   "execution_count": 7,
   "id": "1c94e4a3-ce38-4c77-b174-12a303333071",
   "metadata": {},
   "outputs": [
    {
     "name": "stdout",
     "output_type": "stream",
     "text": [
      "[\n",
      "    [   -0.259093,    -1.498961],\n",
      "    [    0.119264,     0.458181],\n",
      "]\n"
     ]
    }
   ],
   "source": [
    "bpt::print_python_literal(device, A);"
   ]
  },
  {
   "cell_type": "code",
   "execution_count": 8,
   "id": "bf37a7d7-f2c9-4e6d-96be-f6b295f2cbc9",
   "metadata": {},
   "outputs": [
    {
     "name": "stdout",
     "output_type": "stream",
     "text": [
      "[\n",
      "    [    0.394975,     0.044197],\n",
      "    [   -0.636256,     1.731264],\n",
      "]\n"
     ]
    }
   ],
   "source": [
    "bpt::print_python_literal(device, B);"
   ]
  },
  {
   "cell_type": "code",
   "execution_count": 9,
   "id": "ef6b6eaa-0b43-46dd-82a7-3feb36c2b50a",
   "metadata": {},
   "outputs": [],
   "source": [
    "bpt::multiply(device, A, B, C);"
   ]
  },
  {
   "cell_type": "code",
   "execution_count": 10,
   "id": "43c43a5c-c884-4ee7-a1c1-5d4b0741cbd8",
   "metadata": {},
   "outputs": [
    {
     "name": "stdout",
     "output_type": "stream",
     "text": [
      "[\n",
      "    [    0.851388,    -2.606549],\n",
      "    [   -0.244414,     0.798504],\n",
      "]\n"
     ]
    }
   ],
   "source": [
    "bpt::print_python_literal(device, C)"
   ]
  },
  {
   "cell_type": "code",
   "execution_count": null,
   "id": "55bed031-7e0c-4dd8-b3a7-9b50b7deb5db",
   "metadata": {},
   "outputs": [],
   "source": [
    "bpt::multiply(device_mkl, A, B, C_mkl);"
   ]
  },
  {
   "cell_type": "code",
   "execution_count": null,
   "id": "85000cb8-38b3-43af-a83e-d401174ea6b5",
   "metadata": {},
   "outputs": [],
   "source": [
    "bpt::print_python_literal(device, C_mkl)"
   ]
  },
  {
   "cell_type": "code",
   "execution_count": null,
   "id": "7333b90b-03d7-44bb-97ea-95c060d68381",
   "metadata": {},
   "outputs": [],
   "source": []
  }
 ],
 "metadata": {
  "kernelspec": {
   "display_name": "C++17",
   "language": "C++17",
   "name": "xcpp17"
  },
  "language_info": {
   "codemirror_mode": "text/x-c++src",
   "file_extension": ".cpp",
   "mimetype": "text/x-c++src",
   "name": "c++",
   "version": "17"
  }
 },
 "nbformat": 4,
 "nbformat_minor": 5
}
