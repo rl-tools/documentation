{
 "cells": [
  {
   "cell_type": "markdown",
   "id": "7b5531b6-8661-45c9-b0ad-8ae35fc89e27",
   "metadata": {},
   "source": [
    "# The Reinforcement Learning Loop Interface"
   ]
  },
  {
   "cell_type": "code",
   "execution_count": 1,
   "id": "18a49353-b038-459d-85b2-d09ff29f5e0b",
   "metadata": {},
   "outputs": [],
   "source": [
    "#define RL_TOOLS_BACKEND_ENABLE_OPENBLAS\n",
    "#include <rl_tools/operations/cpu_mux.h>\n",
    "#include <rl_tools/nn/operations_cpu_mux.h>\n",
    "#include <rl_tools/rl/environments/pendulum/operations_generic.h>\n",
    "#include <rl_tools/nn_models/operations_cpu.h>\n",
    "namespace rlt = rl_tools;\n",
    "#pragma cling load(\"openblas\")"
   ]
  },
  {
   "cell_type": "code",
   "execution_count": 2,
   "id": "cf1246a7-5b0d-4a2c-babd-1e518dae6531",
   "metadata": {},
   "outputs": [],
   "source": [
    "using DEVICE = rlt::devices::DEVICE_FACTORY<>;\n",
    "using RNG = decltype(rlt::random::default_engine(typename DEVICE::SPEC::RANDOM{}));\n",
    "using T = float;\n",
    "using TI = typename DEVICE::index_t;"
   ]
  },
  {
   "cell_type": "markdown",
   "id": "26b8dc16-2cb6-4f17-a5fe-fa57e27525ed",
   "metadata": {},
   "source": [
    "If you just want to use a deep RL algorithm off the shelf and not tinker with its implementation you can use the `loop` interface. For each RL algorithm in RLtools we provide a loop interface consisting of a configuration, a corresponding state datastructur and step operation. To use the loop interface we include the core loop of e.g. [PPO](https://arxiv.org/abs/1707.06347):"
   ]
  },
  {
   "cell_type": "code",
   "execution_count": 3,
   "id": "3b602662-46f9-452a-a8f5-a20e9d15edad",
   "metadata": {},
   "outputs": [],
   "source": [
    "#include <rl_tools/rl/algorithms/ppo/loop/core/config.h>\n",
    "#include <rl_tools/rl/algorithms/ppo/loop/core/operations.h>"
   ]
  },
  {
   "cell_type": "markdown",
   "id": "59b5235a-13d2-48c3-bcd5-964debe178af",
   "metadata": {},
   "source": [
    "Next we can define the [MDP](https://en.wikipedia.org/wiki/Markov_decision_process) in form of an environment (see [Custom Environment](./08-Custom%20Environment.ipynb) for details):"
   ]
  },
  {
   "cell_type": "code",
   "execution_count": 4,
   "id": "e2096e90-df84-4592-baaa-4991c7fe453a",
   "metadata": {},
   "outputs": [],
   "source": [
    "using PENDULUM_SPEC = rlt::rl::environments::pendulum::Specification<T, TI, rlt::rl::environments::pendulum::DefaultParameters<T>>;\n",
    "using ENVIRONMENT = rlt::rl::environments::Pendulum<PENDULUM_SPEC>;"
   ]
  },
  {
   "cell_type": "markdown",
   "id": "d981d87a-676a-40d4-9961-370571fa3b5a",
   "metadata": {},
   "source": [
    "Based on this environment we can create the default PPO loop config (with default shapes for the actor and critic networks as well as other parameters):"
   ]
  },
  {
   "cell_type": "code",
   "execution_count": 5,
   "id": "e1870a88-e693-45a6-9ee9-ceeb67badfc2",
   "metadata": {},
   "outputs": [],
   "source": [
    "struct LOOP_CORE_PARAMETERS: rlt::rl::algorithms::ppo::loop::core::Parameters<T, TI, ENVIRONMENT>{\n",
    "    static constexpr TI ENVIRONMENT_STEP_LIMIT = 200;\n",
    "    static constexpr TI TOTAL_STEP_LIMIT = 300000;\n",
    "    static constexpr TI STEP_LIMIT = TOTAL_STEP_LIMIT/(ON_POLICY_RUNNER_STEPS_PER_ENV * N_ENVIRONMENTS) + 1; // number of PPO steps\n",
    "};\n",
    "using LOOP_CORE_CONFIG = rlt::rl::algorithms::ppo::loop::core::Config<T, TI, RNG, ENVIRONMENT, LOOP_CORE_PARAMETERS>;"
   ]
  },
  {
   "cell_type": "markdown",
   "id": "40478e84-7bc2-495e-95b5-53d6334a6b74",
   "metadata": {},
   "source": [
    "This config, which can be customized creating a subclass and overwriting the desired fields, gives rise to a loop state:"
   ]
  },
  {
   "cell_type": "code",
   "execution_count": 6,
   "id": "aa79cb64-a50d-4744-80e7-1383f5da85bf",
   "metadata": {},
   "outputs": [],
   "source": [
    "using LOOP_CORE_STATE = typename LOOP_CORE_CONFIG::template State<LOOP_CORE_CONFIG>;"
   ]
  },
  {
   "cell_type": "markdown",
   "id": "693b5836-7991-4e7b-8a87-1c3261ca0822",
   "metadata": {},
   "source": [
    "Next we can create an instance of this state and allocate as well as initialize it:"
   ]
  },
  {
   "cell_type": "code",
   "execution_count": 7,
   "id": "fee2ccc3-fee5-4f75-9084-6e7bd318def1",
   "metadata": {},
   "outputs": [],
   "source": [
    "DEVICE device;\n",
    "LOOP_CORE_STATE lsc;\n",
    "rlt::malloc(device, lsc);\n",
    "TI seed = 1337;\n",
    "rlt::init(device, lsc, seed);"
   ]
  },
  {
   "cell_type": "markdown",
   "id": "13184eb9-31a3-4cd6-b30d-2330fbcc8ce5",
   "metadata": {},
   "source": [
    "Now we can execute PPO steps. A PPO step consists of collecting `LOOP_CONFIG::PARAMETERS::N_ENVIRONMENTS * LOOP_CONFIG::PARAMETERS::ON_POLICY_RUNNER_STEPS_PER_ENV` steps using the `OffPolicyRunner` and then training the actor and critic for `LOOP_CONFIG::PARAMETERS::PPO_PARAMETERS::N_EPOCHS`:"
   ]
  },
  {
   "cell_type": "code",
   "execution_count": 8,
   "id": "0ebf79ad-ca2d-49e1-b9d1-1799650f5489",
   "metadata": {},
   "outputs": [],
   "source": [
    "bool finished = rlt::step(device, lsc);"
   ]
  },
  {
   "cell_type": "markdown",
   "id": "f4b560c2-756e-4c1f-9ef6-973edbf1d3e8",
   "metadata": {},
   "source": [
    "Since we don't want to re-implement e.g. the evaluation for each algorithm, we can wrap the PPO core config in an evaluation loop config wich adds its own configuration, state datastructure and step operation:"
   ]
  },
  {
   "cell_type": "code",
   "execution_count": 9,
   "id": "f2288ac1-2458-428c-91da-776ae9d5f91d",
   "metadata": {},
   "outputs": [],
   "source": [
    "#include <rl_tools/rl/environments/pendulum/ui_xeus.h> // For the interactive UI used later on\n",
    "#include <rl_tools/rl/loop/steps/evaluation/config.h>\n",
    "#include <rl_tools/rl/loop/steps/evaluation/operations.h>"
   ]
  },
  {
   "cell_type": "code",
   "execution_count": 10,
   "id": "1a55bf5b-6eba-46fc-8e7a-78a997927228",
   "metadata": {},
   "outputs": [],
   "source": [
    "template <typename NEXT>\n",
    "struct LOOP_EVAL_PARAMETERS: rlt::rl::loop::steps::evaluation::Parameters<T, TI, NEXT>{\n",
    "    static constexpr TI EVALUATION_INTERVAL = 4;\n",
    "    static constexpr TI NUM_EVALUATION_EPISODES = 10;\n",
    "    static constexpr TI N_EVALUATIONS = NEXT::PARAMETERS::STEP_LIMIT / EVALUATION_INTERVAL;\n",
    "};\n",
    "using LOOP_CONFIG = rlt::rl::loop::steps::evaluation::Config<LOOP_CORE_CONFIG, LOOP_EVAL_PARAMETERS<LOOP_CORE_CONFIG>>;\n",
    "using LOOP_STATE = typename LOOP_CONFIG::template State<LOOP_CONFIG>;"
   ]
  },
  {
   "cell_type": "code",
   "execution_count": 11,
   "id": "6c8dcf00-80d6-4d0b-b1d8-40fc86dac662",
   "metadata": {},
   "outputs": [],
   "source": [
    "LOOP_STATE ls;\n",
    "rlt::malloc(device, ls);\n",
    "rlt::init(device, ls, seed);\n",
    "ls.actor_optimizer.parameters.alpha = 1e-3; // increasing the learning rate leads to faster training of the Pendulum-v1 environment\n",
    "ls.critic_optimizer.parameters.alpha = 1e-3;"
   ]
  },
  {
   "cell_type": "code",
   "execution_count": 12,
   "id": "d09faeab-d9b2-4578-9d9d-d729b72a5eec",
   "metadata": {},
   "outputs": [
    {
     "name": "stdout",
     "output_type": "stream",
     "text": [
      "Step: 0/74 Mean return: -1406.78\n",
      "Step: 4/74 Mean return: -1368.09\n",
      "Stepping yourself > hooks/callbacks\n",
      "Step: 8/74 Mean return: -1263.23\n",
      "Step: 12/74 Mean return: -1444.44\n",
      "Step: 16/74 Mean return: -1390.65\n",
      "Step: 20/74 Mean return: -1302.68\n",
      "Step: 24/74 Mean return: -1287.31\n",
      "Step: 28/74 Mean return: -1125.27\n",
      "Step: 32/74 Mean return: -1185.73\n",
      "Step: 36/74 Mean return: -903.619\n",
      "Step: 40/74 Mean return: -909.322\n",
      "Step: 44/74 Mean return: -697.736\n",
      "Step: 48/74 Mean return: -604.199\n",
      "Step: 52/74 Mean return: -371.755\n",
      "Step: 56/74 Mean return: -345.625\n",
      "Step: 60/74 Mean return: -224.121\n",
      "Step: 64/74 Mean return: -163.862\n",
      "Step: 68/74 Mean return: -162.212\n"
     ]
    }
   ],
   "source": [
    "while(!rlt::step(device, ls)){\n",
    "    if(ls.step == 5){\n",
    "        std::cout << \"Stepping yourself > hooks/callbacks\" << std::endl;\n",
    "    }\n",
    "}"
   ]
  },
  {
   "cell_type": "code",
   "execution_count": 13,
   "id": "9fd94e5a-c117-4e47-9864-314984d2f8d5",
   "metadata": {},
   "outputs": [
    {
     "data": {
      "application/vnd.jupyter.widget-view+json": {
       "model_id": "5a01f3b5a6144fbaba15094279b01168",
       "version_major": 2,
       "version_minor": 0
      },
      "text/plain": [
       "A Jupyter widget with unique id: 5a01f3b5a6144fbaba15094279b01168"
      ]
     },
     "execution_count": 13,
     "metadata": {},
     "output_type": "execute_result"
    }
   ],
   "source": [
    "using UI_SPEC = rlt::rl::environments::pendulum::ui::xeus::Specification<T, TI, 400, 100>; // float type, index type, size, playback speed (in %)\n",
    "using UI = rlt::rl::environments::pendulum::ui::xeus::UI<UI_SPEC>;\n",
    "UI ui;\n",
    "rlt::MatrixDynamic<rlt::matrix::Specification<T, TI, 1, ENVIRONMENT::OBSERVATION_DIM>> observations_mean;\n",
    "rlt::MatrixDynamic<rlt::matrix::Specification<T, TI, 1, ENVIRONMENT::OBSERVATION_DIM>> observations_std;\n",
    "rlt::malloc(device, observations_mean);\n",
    "rlt::malloc(device, observations_std);\n",
    "rlt::set_all(device, observations_mean, 0);\n",
    "rlt::set_all(device, observations_std, 1);\n",
    "ui.canvas"
   ]
  },
  {
   "cell_type": "code",
   "execution_count": 18,
   "id": "d29ca2ff-b7a2-4940-88c5-f4dc92a46f19",
   "metadata": {},
   "outputs": [],
   "source": [
    " rlt::evaluate(device, ls.env_eval, ui, rlt::get_actor(ls), rlt::rl::utils::evaluation::Specification<1, 200>(), observations_mean, observations_std, ls.actor_deterministic_evaluation_buffers, ls.rng_eval);"
   ]
  },
  {
   "cell_type": "markdown",
   "id": "2334e5ae-aff6-4ff3-8ac8-8df29898cadb",
   "metadata": {},
   "source": [
    "You can execute the previous cell again to run another rollout using the UI."
   ]
  }
 ],
 "metadata": {
  "kernelspec": {
   "display_name": "C++17",
   "language": "C++17",
   "name": "xcpp17"
  },
  "language_info": {
   "codemirror_mode": "text/x-c++src",
   "file_extension": ".cpp",
   "mimetype": "text/x-c++src",
   "name": "c++",
   "version": "17"
  }
 },
 "nbformat": 4,
 "nbformat_minor": 5
}
