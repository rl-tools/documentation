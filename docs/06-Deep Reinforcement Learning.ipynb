{
 "cells": [
  {
   "attachments": {},
   "cell_type": "markdown",
   "id": "31dc40bf-8ee3-4054-8b72-de591f8f3a70",
   "metadata": {},
   "source": [
    "# Deep Reinforcement Learning\n",
    "\n",
    "[![Binder](https://mybinder.org/badge_logo.svg)](https://mybinder.org/v2/gh/rl-tools/documentation/binder?labpath=06-Deep%20Reinforcement%20Learning.ipynb)"
   ]
  },
  {
   "cell_type": "markdown",
   "id": "aa28110f-fb76-436f-ad22-20b6e76cb369",
   "metadata": {},
   "source": [
    "In this chapter we use the previously demonstrated deep learning capabilities of **RLtools** in combination with a (inverted) pendulum simulator that is equivalent to the `Pendulum-v1` in [gym/gymnasium](https://github.com/Farama-Foundation/Gymnasium) to train a swing-up control policy. For the training, we use the [TD3](https://proceedings.mlr.press/v80/fujimoto18a) off-policy, deep-RL algorithm. TD3 and required supporting data structures and algorithms are integrated in **RLtools**. \n",
    "\n",
    "<div align=\"center\">\n",
    "<img src=\"images/pendulum_v1_inference.gif\" alt=\"animated\" height='200'/>\n",
    "</div>\n",
    "\n",
    "Note that the training time in the animation refers to bare metal training, not using the Cling interpreter like these notebooks do. As you can see from the training later on even when dispatching to a BLAS library, Cling is much slower than optimized, bare-metal code. See the repository [https://github.com/rl-tools/rl-tools](https://github.com/rl-tools/rl-tools) for more information on how to run the training directly on your hardware. You can also try the [WASM](https://en.wikipedia.org/wiki/WebAssembly) based training in your browser at [https://rl.tools](https://rl.tools).\n",
    "\n",
    "First, as beforehand we include the necessary primitive operations (dispatching matrix multiplications to OpenBLAS). We also use the neural network operations (dense layer forward and backward pass) that take advantage of OpenBLAS through `the nn/operations_cpu_mux.h` multiplexer. The accelerated forward and backward pass are automatically used if the higher level operations (forward/backward pass on the full model) are called with the OpenBLAS device (coming from the `DEVICE_FACTORY`). To make the accelerated routines available to the higher-level functions, `nn_models/operations_cpu.h` has to be included after `nn/operations_cpu_mux.h`. \n",
    "\n",
    "The pendulum environment is implemented in pure C++ without dependencies, hence it contains only generic operations and can be included by the collective `rl/environments/operations_generic.h` that includes all generic functions of all available environments. \n",
    "\n",
    "For TD3 and all its related data structures and algorithms we just need to include `rl/operations_generic.h` because all the operations are higher-level and dispatch to the lower-level primitives imported beforehand. The RL operations call functions to interact with the environment as well as perform forward and backward passes on the neural network model which in turn calls the dense layer operations.\n",
    "\n",
    "We also include the Xeus UI for the pendulum (to be rendered in the notebook when it is run live). Furthermore, we include `rl/utils/evaluation.h` so that we can easily execute deterministic rollouts (without exploration noise) and get average rewards in fixed intervals to monitor the training progress. The evaluation function can also take the UI as an input and render a live animation of the pendulum."
   ]
  },
  {
   "cell_type": "code",
   "execution_count": 1,
   "id": "40e20876-d9a2-4352-bf81-009d6807d53a",
   "metadata": {},
   "outputs": [],
   "source": [
    "#define RL_TOOLS_BACKEND_ENABLE_OPENBLAS\n",
    "#include <rl_tools/operations/cpu_mux.h>\n",
    "#include <rl_tools/nn/optimizers/adam/instance/operations_generic.h>\n",
    "#include <rl_tools/nn/operations_cpu_mux.h>\n",
    "#include <rl_tools/rl/environments/pendulum/operations_generic.h>\n",
    "#include <rl_tools/nn_models/mlp/operations_generic.h>\n",
    "#include <rl_tools/nn_models/sequential/operations_generic.h>\n",
    "#include <rl_tools/nn_models/random_uniform/operations_generic.h>\n",
    "#include <rl_tools/nn/optimizers/adam/operations_generic.h>\n",
    "#include <rl_tools/rl/algorithms/td3/operations_generic.h>\n",
    "#include <rl_tools/rl/components/off_policy_runner/operations_generic.h>\n",
    "#include <rl_tools/rl/environments/pendulum/ui_xeus.h>\n",
    "#include <rl_tools/rl/utils/evaluation/operations_generic.h>\n",
    "namespace rlt = rl_tools;\n",
    "#pragma cling load(\"openblas\")"
   ]
  },
  {
   "cell_type": "markdown",
   "id": "73fa6b15-3385-4143-9739-b92e1552c6df",
   "metadata": {},
   "source": [
    "We set up the major types like before again. `float` is usually much faster while still being sufficient for deep and reinforcement learning. You can try switching to `double` and re-run the notebook to see the difference in training time. "
   ]
  },
  {
   "cell_type": "code",
   "execution_count": 2,
   "id": "d92308be-e173-4f41-84c6-0c0c03ebcd4e",
   "metadata": {},
   "outputs": [],
   "source": [
    "using T = float;\n",
    "using DEVICE = rlt::devices::DEVICE_FACTORY<rlt::devices::DefaultCPUSpecification>;\n",
    "using RNG = DEVICE::SPEC::RANDOM::ENGINE<>;\n",
    "using TI = typename DEVICE::index_t;"
   ]
  },
  {
   "cell_type": "markdown",
   "id": "78a5a547-5100-433e-903c-d6a798824ff2",
   "metadata": {},
   "source": [
    "Next, we define the `ENVIRONMENT` type which acts as a compile-time interface between simulations and RL algorithms. In **RLtools** environments share a common interface that is similar to the `gym/gymnasium` interface but e.g. has the observation and state dimensionality as compile-time constants so that the compiler can maximally optimize each part of the code. The RL algorithms and the following training procedure are agnostic to the type of environment used as long as exposes the required interface. "
   ]
  },
  {
   "cell_type": "code",
   "execution_count": 3,
   "id": "344e8433-8249-4740-8180-5fadadea8a13",
   "metadata": {},
   "outputs": [],
   "source": [
    "using ENVIRONMENT_PARAMETERS = rlt::rl::environments::pendulum::DefaultParameters<T>;\n",
    "using ENVIRONMENT_SPEC = rlt::rl::environments::pendulum::Specification<T, TI, ENVIRONMENT_PARAMETERS>;\n",
    "using ENVIRONMENT = rlt::rl::environments::Pendulum<ENVIRONMENT_SPEC>;"
   ]
  },
  {
   "cell_type": "markdown",
   "id": "7f12f3b1-4141-4973-b4b7-113318eff1f7",
   "metadata": {},
   "source": [
    "Next we define some hyperparameters to train the pendulum swing-up. Note the very low `STEP_LIMIT` which is tribute to `TD3` being relatively sample efficient (e.g. in comparison to [PPO](https://arxiv.org/abs/1707.06347)):"
   ]
  },
  {
   "cell_type": "code",
   "execution_count": 4,
   "id": "abef06db-0ffa-4d57-a9c4-997acc5928de",
   "metadata": {},
   "outputs": [],
   "source": [
    "struct TD3_PENDULUM_PARAMETERS: rlt::rl::algorithms::td3::DefaultParameters<T, TI>{\n",
    "    static constexpr TI CRITIC_BATCH_SIZE = 100;\n",
    "    static constexpr TI ACTOR_BATCH_SIZE = 100;\n",
    "};\n",
    "constexpr TI STEP_LIMIT = 10000;\n",
    "constexpr TI REPLAY_BUFFER_CAP = STEP_LIMIT;\n",
    "constexpr int N_WARMUP_STEPS = TD3_PENDULUM_PARAMETERS::ACTOR_BATCH_SIZE;\n",
    "constexpr TI EPISODE_STEP_LIMIT = 200;\n",
    "constexpr TI ACTOR_NUM_LAYERS = 3;\n",
    "constexpr TI ACTOR_HIDDEN_DIM = 64;\n",
    "constexpr TI CRITIC_NUM_LAYERS = 3;\n",
    "constexpr TI CRITIC_HIDDEN_DIM = 64;\n",
    "constexpr auto ACTOR_ACTIVATION_FUNCTION = rlt::nn::activation_functions::RELU;\n",
    "constexpr auto CRITIC_ACTIVATION_FUNCTION = rlt::nn::activation_functions::RELU;\n",
    "constexpr auto ACTOR_ACTIVATION_FUNCTION_OUTPUT = rlt::nn::activation_functions::TANH;\n",
    "constexpr auto CRITIC_ACTIVATION_FUNCTION_OUTPUT = rlt::nn::activation_functions::IDENTITY;\n",
    "using TD3_PARAMETERS = TD3_PENDULUM_PARAMETERS;"
   ]
  },
  {
   "cell_type": "markdown",
   "id": "045f9513-1e1e-4645-9e18-ffb87c2811ff",
   "metadata": {},
   "source": [
    "In the following these hyperparameters are used to set up the actor and critic types and combine them into a combined actor-critic type that is used in the TD3 implementation. Furthermore, we are defining an off-policy runner type that contains a replay buffer and interacts with the environment. Initially, we were hiding this complexity in the actor critic structure but we found that exposing it is beneficial because the user has more agency and can swap out parts more easily. For example the actor and critic network types can be any type for which a `rlt::forward` and `rlt::backward` operation exist (these functions should be included before the RL operations like described above)."
   ]
  },
  {
   "cell_type": "code",
   "execution_count": 5,
   "id": "c0b8df8b-e8ef-4e06-a8ec-049ecb03559b",
   "metadata": {},
   "outputs": [],
   "source": [
    "using ACTOR_INPUT_SHAPE = rlt::tensor::Shape<TI, 1, TD3_PARAMETERS::ACTOR_BATCH_SIZE, ENVIRONMENT::Observation::DIM>;\n",
    "using CRITIC_INPUT_SHAPE = rlt::tensor::Shape<TI, 1, TD3_PARAMETERS::CRITIC_BATCH_SIZE, ENVIRONMENT::Observation::DIM + ENVIRONMENT::ACTION_DIM>;\n",
    "using ACTOR_CONFIG = rlt::nn_models::mlp::Configuration<T, TI, ENVIRONMENT::ACTION_DIM, ACTOR_NUM_LAYERS, ACTOR_HIDDEN_DIM, ACTOR_ACTIVATION_FUNCTION, ACTOR_ACTIVATION_FUNCTION_OUTPUT>;\n",
    "using CRITIC_CONFIG = rlt::nn_models::mlp::Configuration<T, TI, 1, CRITIC_NUM_LAYERS, CRITIC_HIDDEN_DIM, CRITIC_ACTIVATION_FUNCTION, CRITIC_ACTIVATION_FUNCTION_OUTPUT>;\n",
    "using OPTIMIZER_SPEC = typename rlt::nn::optimizers::adam::Specification<T, TI>;\n",
    "using PARAMETER_TYPE = rlt::nn::parameters::Adam;\n",
    "using CAPABILITY_ACTOR = rl_tools::nn::capability::Gradient<PARAMETER_TYPE>;\n",
    "using CAPABILITY_CRITIC = rl_tools::nn::capability::Gradient<PARAMETER_TYPE>;\n",
    "using CAPABILITY_TARGET = rl_tools::nn::capability::Forward<>;\n",
    "\n",
    "using OPTIMIZER = rlt::nn::optimizers::Adam<OPTIMIZER_SPEC>;\n",
    "\n",
    "using ACTOR_TYPE = rlt::nn_models::mlp::Build<ACTOR_CONFIG, CAPABILITY_ACTOR, ACTOR_INPUT_SHAPE>;\n",
    "using ACTOR_TARGET_TYPE = rl_tools::nn_models::mlp::NeuralNetwork<ACTOR_CONFIG, CAPABILITY_TARGET, ACTOR_INPUT_SHAPE>;\n",
    "\n",
    "using CRITIC_TYPE = rl_tools::nn_models::mlp::Build<CRITIC_CONFIG, CAPABILITY_CRITIC, CRITIC_INPUT_SHAPE>;\n",
    "using CRITIC_TARGET_TYPE = rl_tools::nn_models::mlp::NeuralNetwork<CRITIC_CONFIG, CAPABILITY_TARGET, CRITIC_INPUT_SHAPE>;\n",
    "\n",
    "using TD3_SPEC = rlt::rl::algorithms::td3::Specification<T, DEVICE::index_t, ENVIRONMENT, ACTOR_TYPE, ACTOR_TARGET_TYPE, CRITIC_TYPE, CRITIC_TARGET_TYPE, OPTIMIZER, TD3_PARAMETERS>;\n",
    "using ACTOR_CRITIC_TYPE = rlt::rl::algorithms::td3::ActorCritic<TD3_SPEC>;\n",
    "\n",
    "struct OFF_POLICY_RUNNER_PARAMETERS: rlt::rl::components::off_policy_runner::ParametersDefault<T, TI>{\n",
    "    // you can selectively overwrite defaults here\n",
    "};\n",
    "\n",
    "using EXPLORATION_POLICY_SPEC = rlt::nn_models::random_uniform::Specification<T, TI, ENVIRONMENT::Observation::DIM, ENVIRONMENT::ACTION_DIM, rlt::nn_models::random_uniform::Range::MINUS_ONE_TO_ONE>;\n",
    "using EXPLORATION_POLICY = rlt::nn_models::RandomUniform<EXPLORATION_POLICY_SPEC>;\n",
    "\n",
    "\n",
    "using POLICIES = rl_tools::utils::Tuple<TI, EXPLORATION_POLICY, ACTOR_TYPE>;\n",
    "\n",
    "using OFF_POLICY_RUNNER_SPEC = rlt::rl::components::off_policy_runner::Specification<T, TI, ENVIRONMENT, POLICIES, OFF_POLICY_RUNNER_PARAMETERS>;\n",
    "using OFF_POLICY_RUNNER_TYPE = rlt::rl::components::OffPolicyRunner<OFF_POLICY_RUNNER_SPEC>;"
   ]
  },
  {
   "cell_type": "markdown",
   "id": "88519e1a-5c68-4e41-9047-3d80ca89cdb1",
   "metadata": {},
   "source": [
    "In this tutorial we assume the actor and critic batch sizes are equal:"
   ]
  },
  {
   "cell_type": "code",
   "execution_count": 6,
   "id": "fedbb450-e6ac-475d-8efd-d8df462d4376",
   "metadata": {},
   "outputs": [],
   "source": [
    "static_assert(ACTOR_CRITIC_TYPE::SPEC::PARAMETERS::ACTOR_BATCH_SIZE == ACTOR_CRITIC_TYPE::SPEC::PARAMETERS::CRITIC_BATCH_SIZE);"
   ]
  },
  {
   "cell_type": "markdown",
   "id": "4326e72f-18de-43fd-9cd7-ca4802bb57a9",
   "metadata": {},
   "source": [
    "Next we instantiate the elementary data structures:"
   ]
  },
  {
   "cell_type": "code",
   "execution_count": 7,
   "id": "407be352-6451-48b2-a229-e395dd094f05",
   "metadata": {},
   "outputs": [],
   "source": [
    "DEVICE device;\n",
    "RNG rng;\n",
    "OPTIMIZER actor_optimizer, critic_optimizers[2];\n",
    "TI seed = 0;\n",
    "rlt::init(device, rng, seed);\n",
    "rlt::malloc(device, actor_optimizer);\n",
    "rlt::malloc(device, critic_optimizers[0]);\n",
    "rlt::malloc(device, critic_optimizers[1]);\n",
    "rlt::rl::environments::DummyUI ui; // this is used later to signal the rlt::evaluate to not use a UI"
   ]
  },
  {
   "cell_type": "markdown",
   "id": "ef1a4348-0ba9-4076-8fce-fcc73a110f75",
   "metadata": {},
   "source": [
    "Next we declare and initialize the actor critic structure (containing the actors and critics). The `rlt::init` recursively initializes all submodules (e.g. the MLP using the Kaiming initialization):"
   ]
  },
  {
   "cell_type": "code",
   "execution_count": 8,
   "id": "a4cf4cdb-595f-45fe-a387-0bc32748ca2c",
   "metadata": {
    "scrolled": true
   },
   "outputs": [],
   "source": [
    "ACTOR_CRITIC_TYPE actor_critic;\n",
    "rlt::malloc(device, actor_critic);\n",
    "rlt::init(device, actor_critic, rng);\n",
    "rlt::reset_optimizer_state(device, actor_optimizer, actor_critic.actor);"
   ]
  },
  {
   "cell_type": "markdown",
   "id": "f0006dc4-f144-4751-91eb-9b7fe62f70e1",
   "metadata": {},
   "source": [
    "Furthermore the off-policy runner is instantiated and initialized with a single environment. Note that the off-policy runner contains the replay buffer which is allocated recursively with the `rlt::malloc` call."
   ]
  },
  {
   "cell_type": "code",
   "execution_count": 9,
   "id": "45fdd0c8-4935-464c-8896-899954698a34",
   "metadata": {},
   "outputs": [],
   "source": [
    "OFF_POLICY_RUNNER_TYPE off_policy_runner;\n",
    "rlt::malloc(device, off_policy_runner);\n",
    "ENVIRONMENT env_eval;\n",
    "ENVIRONMENT::Parameters env_eval_parameters;\n",
    "rlt::init(device, off_policy_runner);"
   ]
  },
  {
   "cell_type": "markdown",
   "id": "f4c22b4b-abab-4b29-a227-4c181d6888e6",
   "metadata": {},
   "source": [
    "We like to avoid memory allocations during the training, hence we pre-allocate batch containers for the actor and critic as well as two buffers for each. The `*_training_buffers` contain pre-allocated containers used during the training step in the TD3 algorithm. The `*_buffers` are used to hold intermediate results during the forward and backward pass of the MLP."
   ]
  },
  {
   "cell_type": "code",
   "execution_count": 10,
   "id": "c8e87260-a14b-45d5-8a5b-ea88a48d35b5",
   "metadata": {},
   "outputs": [],
   "source": [
    "constexpr TI SEQUENCE_LENGTH = 1;\n",
    "using CRITIC_BATCH_SPEC = rlt::rl::components::off_policy_runner::SequentialBatchSpecification<OFF_POLICY_RUNNER_SPEC, SEQUENCE_LENGTH, TD3_PARAMETERS::CRITIC_BATCH_SIZE>;\n",
    "rlt::rl::components::off_policy_runner::SequentialBatch<CRITIC_BATCH_SPEC> critic_batch;\n",
    "\n",
    "rlt::rl::algorithms::td3::CriticTrainingBuffers<rlt::rl::algorithms::td3::CriticTrainingBuffersSpecification<ACTOR_CRITIC_TYPE::SPEC>> critic_training_buffers;\n",
    "CRITIC_TYPE::Buffer<> critic_buffer;\n",
    "rlt::malloc(device, critic_batch);\n",
    "rlt::malloc(device, critic_training_buffers);\n",
    "rlt::malloc(device, critic_buffer);\n"
   ]
  },
  {
   "cell_type": "code",
   "execution_count": 11,
   "id": "955bb7a4-0a69-4a47-bea3-8091893ed640",
   "metadata": {},
   "outputs": [],
   "source": [
    "using ACTOR_BATCH_SPEC = rlt::rl::components::off_policy_runner::SequentialBatchSpecification<OFF_POLICY_RUNNER_SPEC, SEQUENCE_LENGTH, TD3_PARAMETERS::ACTOR_BATCH_SIZE>;\n",
    "rlt::rl::components::off_policy_runner::SequentialBatch<ACTOR_BATCH_SPEC> actor_batch;\n",
    "rlt::rl::algorithms::td3::ActorTrainingBuffers<rlt::rl::algorithms::td3::ActorTrainingBuffersSpecification<ACTOR_CRITIC_TYPE::SPEC>> actor_training_buffers;\n",
    "ACTOR_TYPE::State<> actor_state;\n",
    "ACTOR_TYPE::Buffer<> actor_buffer;\n",
    "ACTOR_TARGET_TYPE::Buffer<> actor_target_buffer;\n",
    "CRITIC_TARGET_TYPE::Buffer<> critic_target_buffer;\n",
    "ACTOR_TYPE::Buffer<> actor_buffer_eval;\n",
    "\n",
    "rlt::malloc(device, actor_batch);\n",
    "rlt::malloc(device, actor_training_buffers);\n",
    "rlt::malloc(device, actor_state);\n",
    "rlt::malloc(device, actor_buffer);\n",
    "rlt::malloc(device, actor_target_buffer);\n",
    "rlt::malloc(device, critic_target_buffer);\n",
    "rlt::malloc(device, actor_buffer_eval);\n",
    "\n",
    "using EVAL_SPEC = rlt::rl::utils::evaluation::Specification<T, TI, ENVIRONMENT, 10, EPISODE_STEP_LIMIT>;"
   ]
  },
  {
   "cell_type": "markdown",
   "id": "b068e744-a64d-4c15-ad71-60a8ab87b7cd",
   "metadata": {},
   "source": [
    "Now we can finally train the pendulum swing up. We iterate over `STEP_LIMIT` steps. Every `1000` steps we evaluate the average return of the current policy (using deterministic rollouts without exploration noise). On every iteration we call `rlt::step` which uses the off-policy runner to execute one step using the current policy and save it in its internal replay buffer. After some warmup steps we can start training the actor and critic models. To train the critic, we sample target action noise (such that the training itself is deterministic), sample a batch from the replay buffer and train the critic. This is done for each critic individually. On every other step we use the current target critic to train the actor using another batch sampled from the replay buffer. We also update the target critics and actor on every other step. For more details on the TD3 training procedure you can look into the called functions and refer to the [TD3 paper](https://proceedings.mlr.press/v80/fujimoto18a)"
   ]
  },
  {
   "cell_type": "code",
   "execution_count": 12,
   "id": "fb7df1e2-9fce-4c71-b4ad-2ee53d89c0fe",
   "metadata": {},
   "outputs": [
    {
     "name": "stdout",
     "output_type": "stream",
     "text": [
      "Step: 0/9999 mean return: -1366.26 (4.9867e-05s)\n",
      "Step: 1000/9999 mean return: -1540.91 (4.2398s)\n",
      "Step: 2000/9999 mean return: -1580.01 (8.92037s)\n",
      "Step: 3000/9999 mean return: -1351.86 (13.6384s)\n",
      "Step: 4000/9999 mean return: -809.134 (18.3678s)\n",
      "Step: 5000/9999 mean return: -783.244 (23.1324s)\n",
      "Step: 6000/9999 mean return: -488.21 (27.8919s)\n",
      "Step: 7000/9999 mean return: -409.054 (32.6718s)\n",
      "Step: 8000/9999 mean return: -218.795 (37.4115s)\n",
      "Step: 9000/9999 mean return: -165.229 (42.1385s)\n",
      "Step: 9999/9999 mean return: -138.537 (46.8666s)\n"
     ]
    }
   ],
   "source": [
    "auto start_time = std::chrono::high_resolution_clock::now();\n",
    "for(int step_i = 0; step_i < STEP_LIMIT; step_i+=OFF_POLICY_RUNNER_SPEC::PARAMETERS::N_ENVIRONMENTS){\n",
    "    // Taking the training time and evaluating the agent\n",
    "    if(step_i % 1000 == 0 || step_i == STEP_LIMIT - 1){\n",
    "        auto current_time = std::chrono::high_resolution_clock::now();\n",
    "        std::chrono::duration<double> elapsed_seconds = current_time - start_time;\n",
    "        rlt::rl::utils::evaluation::Result<EVAL_SPEC> result;\n",
    "        rlt::evaluate(device, env_eval, ui, actor_critic.actor, result, rng, rlt::Mode<rlt::mode::Evaluation<>>{});\n",
    "        std::cout << \"Step: \" << step_i << \"/\" << (STEP_LIMIT-1) << \" mean return: \" << result.returns_mean << \" (\" << elapsed_seconds.count() << \"s)\" << std::endl;\n",
    "    }\n",
    "    // One environment step (saved in the replay buffer)\n",
    "    rlt::step<1>(device, off_policy_runner, actor_critic.actor, actor_buffer_eval, rng);\n",
    "\n",
    "    // TD3 training using the replay buffer\n",
    "    if(step_i > N_WARMUP_STEPS){\n",
    "        // Critic training\n",
    "        for(int critic_i = 0; critic_i < 2; critic_i++){\n",
    "            auto target_action_noise_matrix_view = rlt::matrix_view(device, critic_training_buffers.target_next_action_noise);\n",
    "            rlt::target_action_noise(device, actor_critic, target_action_noise_matrix_view, rng);\n",
    "            rlt::gather_batch(device, off_policy_runner, critic_batch, rng);\n",
    "            rlt::train_critic(device, actor_critic, actor_critic.critics[critic_i], critic_batch, critic_optimizers[critic_i], actor_buffer, actor_target_buffer, critic_buffer, critic_target_buffer, critic_training_buffers, rng);\n",
    "            \n",
    "        }\n",
    "        // Actor training\n",
    "        if(step_i % 2 == 0){\n",
    "            {\n",
    "                rlt::gather_batch(device, off_policy_runner, actor_batch, rng);\n",
    "                rlt::train_actor(device, actor_critic, actor_batch, actor_optimizer, actor_buffer, critic_buffer, actor_training_buffers, rng);\n",
    "            }\n",
    "\n",
    "            rlt::update_critic_targets(device, actor_critic);\n",
    "            rlt::update_actor_target(device, actor_critic);\n",
    "        }\n",
    "    }\n",
    "}\n"
   ]
  },
  {
   "cell_type": "markdown",
   "id": "6dcd3930-f20b-42b0-a67f-a8006f8b9c94",
   "metadata": {},
   "source": [
    "In the case of the pendulum a mean return of around `-200` means that the policy learned to swing it up from any initial condition and stabilize it in the upright position. \n",
    "\n",
    "Note: If the same Pendulum training is run natively (not using the C++ interpreter used in this notebook) the training only takes a couple of seconds. Hence we encourage you to follow the steps in the [README](https://github.com/rl-tools/rl-tools) to run RLtools natively after playing with the following bonus ;)"
   ]
  },
  {
   "cell_type": "markdown",
   "id": "ce7f7511-7f3a-4349-8db6-e61a386d932f",
   "metadata": {},
   "source": [
    "**Bonus** (this only works when you are running this tutorial live because this draws to a temporary canvas)\n",
    "\n",
    "We implemented a UI (`pendulum::ui::Xeus`) that can render to a canvas element in this notebook:"
   ]
  },
  {
   "cell_type": "code",
   "execution_count": 13,
   "id": "89591c93-46c6-4910-89a3-861986b65302",
   "metadata": {},
   "outputs": [],
   "source": [
    "using UI_SPEC = rlt::rl::environments::pendulum::ui::xeus::Specification<T, TI, 400, 100>; // float type, index type, size, playback speed (in %)\n",
    "using UI = rlt::rl::environments::pendulum::ui::xeus::UI<UI_SPEC>;"
   ]
  },
  {
   "cell_type": "markdown",
   "id": "28a7e2fb-39d1-44c8-9e2d-5b4f7b5ecf2b",
   "metadata": {},
   "source": [
    "We declare it and give the canvas as the output value of the cell (last statement) to be displayed:"
   ]
  },
  {
   "cell_type": "code",
   "execution_count": 14,
   "id": "90bac748-b6b0-4a99-b2d3-1773c0bed5e3",
   "metadata": {},
   "outputs": [
    {
     "data": {
      "application/vnd.jupyter.widget-view+json": {
       "model_id": "a974798139084195b15f26c7b539eb65",
       "version_major": 2,
       "version_minor": 0
      },
      "text/plain": [
       "A Jupyter widget with unique id: a974798139084195b15f26c7b539eb65"
      ]
     },
     "execution_count": 14,
     "metadata": {},
     "output_type": "execute_result"
    }
   ],
   "source": [
    "UI ui;\n",
    "ui.canvas"
   ]
  },
  {
   "cell_type": "markdown",
   "id": "bae305e0-fef0-44f0-ac45-615eb9eba673",
   "metadata": {},
   "source": [
    "We can now pass this UI to the `rlt::evaluate` function which populates it with the state and renders it into the displayed canvas:"
   ]
  },
  {
   "cell_type": "code",
   "execution_count": 15,
   "id": "1266db45-e1db-4f25-9e7f-4bcf983aff6a",
   "metadata": {
    "scrolled": true
   },
   "outputs": [],
   "source": [
    "rlt::rl::utils::evaluation::Result<rlt::rl::utils::evaluation::Specification<T, TI, ENVIRONMENT, 1, EPISODE_STEP_LIMIT>> result;\n",
    "rlt::evaluate(device, env_eval, ui, actor_critic.actor, result, rng, rlt::Mode<rlt::mode::Evaluation<>>{});"
   ]
  },
  {
   "cell_type": "markdown",
   "id": "21d78fbd-3fe9-4b8b-9c7a-bcbce392f8bc",
   "metadata": {},
   "source": [
    "The simulation runs in the kernel and pushes updates to the notebook, hence depending on the network speed the maximum playback speed might be less than realtime. The indicator at the bottom shows how much torque is applied to the joint by the policy. You can re-run this cell to run another episode with a different, random initial state."
   ]
  }
 ],
 "metadata": {
  "kernelspec": {
   "display_name": "C++17",
   "language": "C++17",
   "name": "xcpp17"
  },
  "language_info": {
   "codemirror_mode": "text/x-c++src",
   "file_extension": ".cpp",
   "mimetype": "text/x-c++src",
   "name": "c++",
   "version": "17"
  }
 },
 "nbformat": 4,
 "nbformat_minor": 5
}
