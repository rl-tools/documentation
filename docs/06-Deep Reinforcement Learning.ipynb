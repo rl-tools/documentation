{
 "cells": [
  {
   "attachments": {},
   "cell_type": "markdown",
   "id": "31dc40bf-8ee3-4054-8b72-de591f8f3a70",
   "metadata": {},
   "source": [
    "# Deep Reinforcement Learning\n",
    "\n",
    "[![Binder](https://mybinder.org/badge_logo.svg)](https://mybinder.org/v2/gh/BackpropTools/documentation/binder?labpath=06-Deep%20Reinforcement%20Learning.ipynb)"
   ]
  },
  {
   "cell_type": "markdown",
   "id": "aa28110f-fb76-436f-ad22-20b6e76cb369",
   "metadata": {},
   "source": [
    "In this chapter we use the previously demonstrated deep learning capabilities of **BackpropTools** in combination with a (inverted) pendulum simulator that is equivalent to the `Pendulum-v1` in [gym/gymnasium](https://github.com/Farama-Foundation/Gymnasium) to train a swing-up control policy. For the training, we use the [TD3](https://proceedings.mlr.press/v80/fujimoto18a) off-policy, deep-RL algorithm. TD3 and required supporting data structures and algorithms are integrated in **BackpropTools**. \n",
    "\n",
    "<div align=\"center\">\n",
    "<img src=\"images/pendulum_v1_inference.gif\" alt=\"animated\" height='200'/>\n",
    "</div>\n",
    "\n",
    "Note that the training time in the animation refers to bare metal training, not using the Cling interpreter like these notebooks do. As you can see from the training later on even when dispatching to a BLAS library, Cling is much slower than optimized, bare-metal code. See the repository [https://github.com/BackpropTools/BackpropTools](https://github.com/BackpropTools/BackpropTools) for more information on how to run the training directly on your hardware. You can also try the [WASM](https://en.wikipedia.org/wiki/WebAssembly) based training in your browser at [https://backprop.tools](https://backprop.tools).\n",
    "\n",
    "First, as beforehand we include the necessary primitive operations (dispatching matrix multiplications to OpenBLAS). We also use the neural network operations (dense layer forward and backward pass) that take advantage of OpenBLAS through `the nn/operations_cpu_mux.h` multiplexer. The accelerated forward and backward pass are automatically used if the higher level operations (forward/backward pass on the full model) are called with the OpenBLAS device (coming from the `DEVICE_FACTORY`). To make the accelerated routines available to the higher-level functions, `nn_models/operations_cpu.h` has to be included after `nn/operations_cpu_mux.h`. \n",
    "\n",
    "The pendulum environment is implemented in pure C++ without dependencies, hence it contains only generic operations and can be included by the collective `rl/environments/operations_generic.h` that includes all generic functions of all available environments. \n",
    "\n",
    "For TD3 and all its related data structures and algorithms we just need to include `rl/operations_generic.h` because all the operations are higher-level and dispatch to the lower-level primitives imported beforehand. The RL operations call functions to interact with the environment as well as perform forward and backward passes on the neural network model which in turn calls the dense layer operations.\n",
    "\n",
    "Furthermore, we include the `rl/utils/evaluation.h` header so that we easily execute deterministic rollouts (without exploration noise) and get average rewards in fixed intervals to monitor the training progress."
   ]
  },
  {
   "cell_type": "code",
   "execution_count": 1,
   "id": "40e20876-d9a2-4352-bf81-009d6807d53a",
   "metadata": {},
   "outputs": [],
   "source": [
    "#define BACKPROP_TOOLS_BACKEND_ENABLE_OPENBLAS\n",
    "#include <backprop_tools/operations/cpu_mux.h>\n",
    "#include <backprop_tools/nn/operations_cpu_mux.h>\n",
    "#include <backprop_tools/rl/environments/operations_generic.h>\n",
    "#include <backprop_tools/nn_models/operations_cpu.h>\n",
    "#include <backprop_tools/rl/operations_generic.h>\n",
    "#include <backprop_tools/rl/utils/evaluation.h>\n",
    "namespace bpt = backprop_tools;\n",
    "#pragma cling load(\"openblas\")"
   ]
  },
  {
   "cell_type": "markdown",
   "id": "73fa6b15-3385-4143-9739-b92e1552c6df",
   "metadata": {},
   "source": [
    "We set up the major types like before again. `float` is usually much faster while still being sufficient for deep and reinforcement learning. You can try switching to `double` and re-run the notebook to see the difference in training time. "
   ]
  },
  {
   "cell_type": "code",
   "execution_count": 2,
   "id": "d92308be-e173-4f41-84c6-0c0c03ebcd4e",
   "metadata": {},
   "outputs": [],
   "source": [
    "using T = float;\n",
    "using DEVICE = bpt::DEVICE_FACTORY<bpt::devices::DefaultCPUSpecification>;\n",
    "using TI = typename DEVICE::index_t;"
   ]
  },
  {
   "cell_type": "markdown",
   "id": "78a5a547-5100-433e-903c-d6a798824ff2",
   "metadata": {},
   "source": [
    "Next, we define the `ENVIRONMENT` type which acts as a compile-time interface between simulations and RL algorithms. In **BackpropTools** environments share a common interface that is similar to the `gym/gymnasium` interface but e.g. has the observation and state dimensionality as compile-time constants so that the compiler can maximally optimize each part of the code. The RL algorithms and the following training procedure are agnostic to the type of environment used as long as exposes the required interface. "
   ]
  },
  {
   "cell_type": "code",
   "execution_count": 3,
   "id": "344e8433-8249-4740-8180-5fadadea8a13",
   "metadata": {},
   "outputs": [],
   "source": [
    "using ENVIRONMENT_PARAMETERS = bpt::rl::environments::pendulum::DefaultParameters<T>;\n",
    "using ENVIRONMENT_SPEC = bpt::rl::environments::pendulum::Specification<T, TI, ENVIRONMENT_PARAMETERS>;\n",
    "using ENVIRONMENT = bpt::rl::environments::Pendulum<ENVIRONMENT_SPEC>;"
   ]
  },
  {
   "cell_type": "markdown",
   "id": "7f12f3b1-4141-4973-b4b7-113318eff1f7",
   "metadata": {},
   "source": [
    "Next we define some hyperparameters to train the pendulum swing-up. Note the very low `STEP_LIMIT` which is tribute to `TD3` being relatively sample efficient (e.g. in comparison to [PPO](https://arxiv.org/abs/1707.06347)):"
   ]
  },
  {
   "cell_type": "code",
   "execution_count": 4,
   "id": "abef06db-0ffa-4d57-a9c4-997acc5928de",
   "metadata": {},
   "outputs": [],
   "source": [
    "struct TD3_PENDULUM_PARAMETERS: bpt::rl::algorithms::td3::DefaultParameters<T, TI>{\n",
    "    constexpr static typename DEVICE::index_t CRITIC_BATCH_SIZE = 100;\n",
    "    constexpr static typename DEVICE::index_t ACTOR_BATCH_SIZE = 100;\n",
    "};\n",
    "constexpr TI STEP_LIMIT = 10000;\n",
    "constexpr TI REPLAY_BUFFER_CAP = STEP_LIMIT;\n",
    "constexpr int N_WARMUP_STEPS = TD3_PENDULUM_PARAMETERS::ACTOR_BATCH_SIZE;\n",
    "constexpr TI EPISODE_STEP_LIMIT = 200;\n",
    "constexpr TI ACTOR_NUM_LAYERS = 3;\n",
    "constexpr TI ACTOR_HIDDEN_DIM = 64;\n",
    "constexpr TI CRITIC_NUM_LAYERS = 3;\n",
    "constexpr TI CRITIC_HIDDEN_DIM = 64;\n",
    "constexpr auto ACTOR_ACTIVATION_FUNCTION = bpt::nn::activation_functions::RELU;\n",
    "constexpr auto CRITIC_ACTIVATION_FUNCTION = bpt::nn::activation_functions::RELU;\n",
    "constexpr auto ACTOR_ACTIVATION_FUNCTION_OUTPUT = bpt::nn::activation_functions::TANH;\n",
    "constexpr auto CRITIC_ACTIVATION_FUNCTION_OUTPUT = bpt::nn::activation_functions::IDENTITY;\n",
    "using TD3_PARAMETERS = TD3_PENDULUM_PARAMETERS;"
   ]
  },
  {
   "cell_type": "markdown",
   "id": "045f9513-1e1e-4645-9e18-ffb87c2811ff",
   "metadata": {},
   "source": [
    "In the following these hyperparameters are used to set up the actor and critic types and combine them into a combined actor-critic type that is used in the TD3 implementation. Furthermore, we are defining an off-policy runner type that contains a replay buffer and interacts with the environment. Initially, we were hiding this complexity in the actor critic structure but we found that exposing it is beneficial because the user has more agency and can swap out parts more easily. For example the actor and critic network types can be any type for which a `bpt::forward` and `bpt::backward` operation exist (these functions should be included before the RL operations like described above)."
   ]
  },
  {
   "cell_type": "code",
   "execution_count": 5,
   "id": "c0b8df8b-e8ef-4e06-a8ec-049ecb03559b",
   "metadata": {},
   "outputs": [],
   "source": [
    "using ACTOR_STRUCTURE_SPEC = bpt::nn_models::mlp::StructureSpecification<T, TI, ENVIRONMENT::OBSERVATION_DIM, ENVIRONMENT::ACTION_DIM, ACTOR_NUM_LAYERS, ACTOR_HIDDEN_DIM, ACTOR_ACTIVATION_FUNCTION, ACTOR_ACTIVATION_FUNCTION_OUTPUT, TD3_PARAMETERS::ACTOR_BATCH_SIZE>;\n",
    "using CRITIC_STRUCTURE_SPEC = bpt::nn_models::mlp::StructureSpecification<T, TI, ENVIRONMENT::OBSERVATION_DIM + ENVIRONMENT::ACTION_DIM, 1, CRITIC_NUM_LAYERS, CRITIC_HIDDEN_DIM, CRITIC_ACTIVATION_FUNCTION, CRITIC_ACTIVATION_FUNCTION_OUTPUT, TD3_PARAMETERS::CRITIC_BATCH_SIZE>;\n",
    "using OPTIMIZER_PARAMETERS = typename bpt::nn::optimizers::adam::DefaultParametersTorch<T>;\n",
    "\n",
    "using OPTIMIZER = bpt::nn::optimizers::Adam<OPTIMIZER_PARAMETERS>;\n",
    "using ACTOR_NETWORK_SPEC = bpt::nn_models::mlp::AdamSpecification<ACTOR_STRUCTURE_SPEC>;\n",
    "using ACTOR_NETWORK_TYPE = bpt::nn_models::mlp::NeuralNetworkAdam<ACTOR_NETWORK_SPEC>;\n",
    "\n",
    "using ACTOR_TARGET_NETWORK_SPEC = bpt::nn_models::mlp::InferenceSpecification<ACTOR_STRUCTURE_SPEC>;\n",
    "using ACTOR_TARGET_NETWORK_TYPE = backprop_tools::nn_models::mlp::NeuralNetwork<ACTOR_TARGET_NETWORK_SPEC>;\n",
    "\n",
    "using CRITIC_NETWORK_SPEC = bpt::nn_models::mlp::AdamSpecification<CRITIC_STRUCTURE_SPEC>;\n",
    "using CRITIC_NETWORK_TYPE = backprop_tools::nn_models::mlp::NeuralNetworkAdam<CRITIC_NETWORK_SPEC>;\n",
    "\n",
    "using CRITIC_TARGET_NETWORK_SPEC = backprop_tools::nn_models::mlp::InferenceSpecification<CRITIC_STRUCTURE_SPEC>;\n",
    "using CRITIC_TARGET_NETWORK_TYPE = backprop_tools::nn_models::mlp::NeuralNetwork<CRITIC_TARGET_NETWORK_SPEC>;\n",
    "\n",
    "using TD3_SPEC = bpt::rl::algorithms::td3::Specification<T, DEVICE::index_t, ENVIRONMENT, ACTOR_NETWORK_TYPE, ACTOR_TARGET_NETWORK_TYPE, CRITIC_NETWORK_TYPE, CRITIC_TARGET_NETWORK_TYPE, TD3_PARAMETERS>;\n",
    "using ACTOR_CRITIC_TYPE = bpt::rl::algorithms::td3::ActorCritic<TD3_SPEC>;\n",
    "\n",
    "using OFF_POLICY_RUNNER_SPEC = bpt::rl::components::off_policy_runner::Specification<\n",
    "    T,\n",
    "    TI,\n",
    "    ENVIRONMENT,\n",
    "    1,\n",
    "    REPLAY_BUFFER_CAP,\n",
    "    EPISODE_STEP_LIMIT,\n",
    "    bpt::rl::components::off_policy_runner::DefaultParameters<T>\n",
    ">;\n",
    "using OFF_POLICY_RUNNER_TYPE = bpt::rl::components::OffPolicyRunner<OFF_POLICY_RUNNER_SPEC>;"
   ]
  },
  {
   "cell_type": "markdown",
   "id": "88519e1a-5c68-4e41-9047-3d80ca89cdb1",
   "metadata": {},
   "source": [
    "In this tutorial we assume the actor and critic batch sizes are equal:"
   ]
  },
  {
   "cell_type": "code",
   "execution_count": 6,
   "id": "fedbb450-e6ac-475d-8efd-d8df462d4376",
   "metadata": {},
   "outputs": [],
   "source": [
    "static_assert(ACTOR_CRITIC_TYPE::SPEC::PARAMETERS::ACTOR_BATCH_SIZE == ACTOR_CRITIC_TYPE::SPEC::PARAMETERS::CRITIC_BATCH_SIZE);"
   ]
  },
  {
   "cell_type": "markdown",
   "id": "4326e72f-18de-43fd-9cd7-ca4802bb57a9",
   "metadata": {},
   "source": [
    "Next we instantiate the elementary data structures:"
   ]
  },
  {
   "cell_type": "code",
   "execution_count": 7,
   "id": "407be352-6451-48b2-a229-e395dd094f05",
   "metadata": {},
   "outputs": [],
   "source": [
    "DEVICE device;\n",
    "OPTIMIZER optimizer;\n",
    "auto rng = bpt::random::default_engine(typename DEVICE::SPEC::RANDOM{}, 1);\n",
    "bool ui = false; // this is used later to signal the bpt::evaluate to not use a UI"
   ]
  },
  {
   "cell_type": "markdown",
   "id": "ef1a4348-0ba9-4076-8fce-fcc73a110f75",
   "metadata": {},
   "source": [
    "Next we declare and initialize the actor critic structure (containing the actors and critics). The `bpt::init` recursively initializes all submodules (e.g. the MLP using the Kaiming initialization):"
   ]
  },
  {
   "cell_type": "code",
   "execution_count": 8,
   "id": "a4cf4cdb-595f-45fe-a387-0bc32748ca2c",
   "metadata": {
    "scrolled": true
   },
   "outputs": [],
   "source": [
    "ACTOR_CRITIC_TYPE actor_critic;\n",
    "bpt::malloc(device, actor_critic);\n",
    "bpt::init(device, actor_critic, optimizer, rng);"
   ]
  },
  {
   "cell_type": "markdown",
   "id": "f0006dc4-f144-4751-91eb-9b7fe62f70e1",
   "metadata": {},
   "source": [
    "Furthermore the off-policy runner is instantiated and initialized with a single environment. Note that the off-policy runner contains the replay buffer which is allocated recursively with the `bpt::malloc` call."
   ]
  },
  {
   "cell_type": "code",
   "execution_count": 9,
   "id": "45fdd0c8-4935-464c-8896-899954698a34",
   "metadata": {},
   "outputs": [],
   "source": [
    "OFF_POLICY_RUNNER_TYPE off_policy_runner;\n",
    "bpt::malloc(device, off_policy_runner);\n",
    "ENVIRONMENT envs[decltype(off_policy_runner)::N_ENVIRONMENTS];\n",
    "bpt::init(device, off_policy_runner, envs);"
   ]
  },
  {
   "cell_type": "markdown",
   "id": "f4c22b4b-abab-4b29-a227-4c181d6888e6",
   "metadata": {},
   "source": [
    "We like to avoid memory allocations during the training, hence we pre-allocate batch containers for the actor and critic as well as two buffers for each. The `*_training_buffers` contain pre-allocated containers used during the training step in the TD3 algorithm. The `*_buffers` are used to hold intermediate results during the forward and backward pass of the MLP."
   ]
  },
  {
   "cell_type": "code",
   "execution_count": 10,
   "id": "c8e87260-a14b-45d5-8a5b-ea88a48d35b5",
   "metadata": {},
   "outputs": [],
   "source": [
    "OFF_POLICY_RUNNER_TYPE::Batch<TD3_PARAMETERS::CRITIC_BATCH_SIZE> critic_batch;\n",
    "bpt::rl::algorithms::td3::CriticTrainingBuffers<ACTOR_CRITIC_TYPE::SPEC> critic_training_buffers;\n",
    "CRITIC_NETWORK_TYPE::BuffersForwardBackward<ACTOR_CRITIC_TYPE::SPEC::PARAMETERS::CRITIC_BATCH_SIZE> critic_buffers;\n",
    "bpt::malloc(device, critic_batch);\n",
    "bpt::malloc(device, critic_training_buffers);\n",
    "bpt::malloc(device, critic_buffers);\n"
   ]
  },
  {
   "cell_type": "code",
   "execution_count": 11,
   "id": "955bb7a4-0a69-4a47-bea3-8091893ed640",
   "metadata": {},
   "outputs": [],
   "source": [
    "OFF_POLICY_RUNNER_TYPE::Batch<TD3_PARAMETERS::ACTOR_BATCH_SIZE> actor_batch;\n",
    "bpt::rl::algorithms::td3::ActorTrainingBuffers<ACTOR_CRITIC_TYPE::SPEC> actor_training_buffers;\n",
    "ACTOR_NETWORK_TYPE::Buffers<ACTOR_CRITIC_TYPE::SPEC::PARAMETERS::ACTOR_BATCH_SIZE> actor_buffers;\n",
    "ACTOR_NETWORK_TYPE::Buffers<OFF_POLICY_RUNNER_SPEC::N_ENVIRONMENTS> actor_buffers_eval;\n",
    "bpt::malloc(device, actor_batch);\n",
    "bpt::malloc(device, actor_training_buffers);\n",
    "bpt::malloc(device, actor_buffers_eval);\n",
    "bpt::malloc(device, actor_buffers);"
   ]
  },
  {
   "cell_type": "markdown",
   "id": "a59c8d4c-2ede-4eec-84b3-7030724325ca",
   "metadata": {},
   "source": [
    "For the pendulum training we don't use observation normalization but the `bpt::evaluate` function expects mean and standard deviation so we initialize them to an isotropic, standard normal distribution:"
   ]
  },
  {
   "cell_type": "code",
   "execution_count": 12,
   "id": "57f4810f-326f-4f7d-9c2c-e74fa51e3773",
   "metadata": {},
   "outputs": [],
   "source": [
    "bpt::MatrixDynamic<bpt::matrix::Specification<T, TI, 1, ENVIRONMENT::OBSERVATION_DIM>> observations_mean;\n",
    "bpt::MatrixDynamic<bpt::matrix::Specification<T, TI, 1, ENVIRONMENT::OBSERVATION_DIM>> observations_std;\n",
    "bpt::malloc(device, observations_mean);\n",
    "bpt::malloc(device, observations_std);\n",
    "bpt::set_all(device, observations_mean, 0);\n",
    "bpt::set_all(device, observations_std, 1);"
   ]
  },
  {
   "cell_type": "markdown",
   "id": "b068e744-a64d-4c15-ad71-60a8ab87b7cd",
   "metadata": {},
   "source": [
    "Now we can finally train the pendulum swing up. We iterate over `STEP_LIMIT` steps. Every `1000` steps we evaluate the averate return of the current policy (using deterministic rollouts without exploration noise). On every iteration we call `bpt::step` which uses the off-policy runner to execute one step using the current policy and save it in its internal replay buffer. After some warmup steps we can start training the actor and critic models. To train the critic, we sample target action noise (such that the training itself is deterministic), sample a batch from the replay buffer and train the critic. This is done for each critic individually. On every other step we use the current target critic to train the actor using another batch sampled from the replay buffer. We also update the target critics and actor on every other step. For more details on the TD3 training procedure you can look into the called functions and refer to the [TD3 paper](https://proceedings.mlr.press/v80/fujimoto18a)"
   ]
  },
  {
   "cell_type": "code",
   "execution_count": 13,
   "id": "38258670-2ee3-421f-a356-672c9ac15574",
   "metadata": {},
   "outputs": [
    {
     "name": "stdout",
     "output_type": "stream",
     "text": [
      "Step: 0/9999 mean return: -1479.62 (4.8245e-05s)\n",
      "Step: 1000/9999 mean return: -1544.22 (34.0196s)\n",
      "Step: 2000/9999 mean return: -1487.76 (55.2516s)\n",
      "Step: 3000/9999 mean return: -1340.32 (80.2432s)\n",
      "Step: 4000/9999 mean return: -1065.59 (156.748s)\n",
      "Step: 5000/9999 mean return: -897.391 (207.226s)\n",
      "Step: 6000/9999 mean return: -805.275 (238.671s)\n",
      "Step: 7000/9999 mean return: -770.334 (261.519s)\n",
      "Step: 8000/9999 mean return: -274.956 (288.851s)\n",
      "Step: 9000/9999 mean return: -173.292 (350.842s)\n",
      "Step: 9999/9999 mean return: -214.823 (400.15s)\n"
     ]
    }
   ],
   "source": [
    "auto start_time = std::chrono::high_resolution_clock::now();\n",
    "for(int step_i = 0; step_i < STEP_LIMIT; step_i+=OFF_POLICY_RUNNER_SPEC::N_ENVIRONMENTS){\n",
    "    // Taking the training time and evaluating the agent\n",
    "    if(step_i % 1000 == 0 || step_i == STEP_LIMIT - 1){\n",
    "        auto current_time = std::chrono::high_resolution_clock::now();\n",
    "        std::chrono::duration<double> elapsed_seconds = current_time - start_time;\n",
    "        auto result = bpt::evaluate(device, envs[0], ui, actor_critic.actor, bpt::rl::utils::evaluation::Specification<10, EPISODE_STEP_LIMIT>(), observations_mean, observations_std, rng);\n",
    "        std::cout << \"Step: \" << step_i << \"/\" << (STEP_LIMIT-1) << \" mean return: \" << result.mean << \" (\" << elapsed_seconds.count() << \"s)\" << std::endl;\n",
    "    }\n",
    "    // One environment step (saved in the replay buffer)\n",
    "    bpt::step(device, off_policy_runner, actor_critic.actor, actor_buffers_eval, rng);\n",
    "\n",
    "    // TD3 training using the replay buffer\n",
    "    if(step_i > N_WARMUP_STEPS){\n",
    "        // Critic training\n",
    "        for(int critic_i = 0; critic_i < 2; critic_i++){\n",
    "            bpt::target_action_noise(device, actor_critic, critic_training_buffers.target_next_action_noise, rng);\n",
    "            bpt::gather_batch(device, off_policy_runner, critic_batch, rng);\n",
    "            bpt::train_critic(device, actor_critic, critic_i == 0 ? actor_critic.critic_1 : actor_critic.critic_2, critic_batch, optimizer, actor_buffers, critic_buffers, critic_training_buffers);\n",
    "        }\n",
    "        // Actor training\n",
    "        if(step_i % 2 == 0){\n",
    "            {\n",
    "                bpt::gather_batch(device, off_policy_runner, actor_batch, rng);\n",
    "                bpt::train_actor(device, actor_critic, actor_batch, optimizer, actor_buffers, critic_buffers, actor_training_buffers);\n",
    "            }\n",
    "\n",
    "            bpt::update_critic_targets(device, actor_critic);\n",
    "            bpt::update_actor_target(device, actor_critic);\n",
    "        }\n",
    "    }\n",
    "}\n"
   ]
  },
  {
   "cell_type": "markdown",
   "id": "6dcd3930-f20b-42b0-a67f-a8006f8b9c94",
   "metadata": {},
   "source": [
    "In the case of the pendulum a mean return of around `-200` means that the policy learned to swing it up from any initial condition and stabilize it in the upright position. "
   ]
  }
 ],
 "metadata": {
  "kernelspec": {
   "display_name": "C++17",
   "language": "C++17",
   "name": "xcpp17"
  },
  "language_info": {
   "codemirror_mode": "text/x-c++src",
   "file_extension": ".cpp",
   "mimetype": "text/x-c++src",
   "name": "c++",
   "version": "17"
  }
 },
 "nbformat": 4,
 "nbformat_minor": 5
}
