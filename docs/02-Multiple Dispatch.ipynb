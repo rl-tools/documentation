{
 "cells": [
  {
   "attachments": {},
   "cell_type": "markdown",
   "id": "2acc6d61-8c6c-49b6-b726-ff4f78da97a4",
   "metadata": {},
   "source": [
    "# Multiple Dispatch\n",
    "\n",
    "\n",
    "[![Binder](https://mybinder.org/badge_logo.svg)](https://mybinder.org/v2/gh/BackpropTools/documentation/binder?labpath=Multiple%20Dispatch.ipynb)\n",
    "\n",
    "In this notebook, we show the usage of static multiple dispatch using a simple example. Static multiple dispatch is used in **BackpropTools** to provide different implementations of primitives used in deep learning, reinforcement learning etc. that are tailored to the particular device the code is executed on. In comparison to the Julia programming language which popularized dynamic/runtime multiple dispatch, in **BackpropTools** the dispatch to a particular implementation is done at compile-time, enabling the compiler to heavily optimize the code for a particular device. \n",
    "\n",
    "First, we set up the environment as detailed in [Containers.ipynb](./01-Containers.ipynb)"
   ]
  },
  {
   "cell_type": "code",
   "execution_count": 2,
   "id": "c00b5656-b4d5-4283-afc5-ac754b9eda25",
   "metadata": {
    "scrolled": true
   },
   "outputs": [],
   "source": [
    "#include <backprop_tools/operations/cpu.h>"
   ]
  },
  {
   "cell_type": "code",
   "execution_count": 3,
   "id": "21c90e6e-bdee-485d-bbe8-741401b9d62b",
   "metadata": {},
   "outputs": [],
   "source": [
    "namespace bpt = backprop_tools;\n",
    "using DEVICE = bpt::devices::DefaultCPU;\n",
    "using T = float;\n",
    "using TI = typename DEVICE::index_t;"
   ]
  },
  {
   "attachments": {},
   "cell_type": "markdown",
   "id": "f397c4f6-a8cd-414f-89c1-e1707b5abda2",
   "metadata": {},
   "source": [
    "Additionally, we create a new device (a hypothetical Accelerator) that is derived from the default CPU device. If we don't overload any functions using this device will lead to automatic dispatch to the functions for the original device. "
   ]
  },
  {
   "cell_type": "code",
   "execution_count": 4,
   "id": "c13cd9ce-3acc-4f40-b14e-5e685b3f0181",
   "metadata": {},
   "outputs": [],
   "source": [
    "struct Accelerator: DEVICE{};"
   ]
  },
  {
   "cell_type": "code",
   "execution_count": 5,
   "id": "e6a6a4f0-4cdf-45ed-9775-9e4095d980c0",
   "metadata": {},
   "outputs": [],
   "source": [
    "DEVICE device_1;\n",
    "Accelerator device_2;\n",
    "TI seed = 1;\n",
    "auto rng = bpt::random::default_engine(DEVICE::SPEC::RANDOM(), seed);\n",
    "bpt::MatrixDynamic<bpt::matrix::Specification<T, TI, 3, 3>> m;"
   ]
  },
  {
   "attachments": {},
   "cell_type": "markdown",
   "id": "636bc58a-8940-4bd6-b2c9-00f756e34e4a",
   "metadata": {},
   "source": [
    "We allocate the matrix using the first device. In this case it makes no difference if we allocate it using the first or second device but if we were e.g. using a GPU with separate, on-device memory we have to allocate containers for the particular device they will be used on. After allocating containers on different devices they can be copied between devices using `backprop_tools::copy`."
   ]
  },
  {
   "cell_type": "code",
   "execution_count": 6,
   "id": "ed36ffcd-390b-4df5-878a-f424c5db05be",
   "metadata": {},
   "outputs": [
    {
     "name": "stdout",
     "output_type": "stream",
     "text": [
      "    0.000000     0.000000     0.000000 \n",
      "    0.000000     0.000000     0.000000 \n",
      "    0.000000     0.000000     0.000000 \n"
     ]
    }
   ],
   "source": [
    "bpt::malloc(device_1, m);\n",
    "bpt::set_all(device_1, m, 0);\n",
    "bpt::print(device_1, m);"
   ]
  },
  {
   "attachments": {},
   "cell_type": "markdown",
   "id": "a23ea5a1-23a4-4279-8b07-9d0677622124",
   "metadata": {},
   "source": [
    "Now we define a new operation that takes a matrix and increments the first element by `10000000`. Not that this function can deal with `device_1` and `device_2`. Additionally, because of the template metaprogramming allowing us to pass around the matrix's Specification at compile-time, we can use `static_assert` to make sure the operator can not be used on smaller matrices. This shows how static multiple dispatch allows for bounds checking at compile-time without any run-time overhead. On another note we use the index type `TI` to count because in **BackpropTools** we never hardcode any integer or floating point types, so that the optimal ones can be used depending on the device we are compiling for. "
   ]
  },
  {
   "cell_type": "code",
   "execution_count": 7,
   "id": "a425a7ce-8d19-4368-a02b-61b94ec6fc57",
   "metadata": {},
   "outputs": [],
   "source": [
    "template <typename SPEC>\n",
    "void increment_first_element(DEVICE& device, backprop_tools::Matrix<SPEC>& matrix){\n",
    "    using TI = DEVICE::index_t;\n",
    "    static_assert(SPEC::ROWS >= 1);\n",
    "    static_assert(SPEC::COLS >= 1);\n",
    "    for(TI i=0; i < 10000000; i++){\n",
    "        bpt::increment(matrix, 0, 0, 1);\n",
    "    }\n",
    "}"
   ]
  },
  {
   "attachments": {},
   "cell_type": "markdown",
   "id": "1f06486f-3e9e-478a-9fbe-24b70b1367d1",
   "metadata": {},
   "source": [
    "Now we can benchmark the runtime of this, admittably horribly inefficient implementation of the incrementation operation:"
   ]
  },
  {
   "cell_type": "code",
   "execution_count": 8,
   "id": "1d176079-5f2c-43ba-aee3-1f864b9b82fa",
   "metadata": {},
   "outputs": [
    {
     "name": "stdout",
     "output_type": "stream",
     "text": [
      "Time taken: 117.943163 ms\n"
     ]
    }
   ],
   "source": [
    "#include <chrono>\n",
    "#include <iostream>\n",
    "auto start = std::chrono::high_resolution_clock::now();\n",
    "increment_first_element(device_1, m);\n",
    "auto end = std::chrono::high_resolution_clock::now();\n",
    "std::chrono::duration<double, std::milli> elapsed = end - start;\n",
    "std::cout << \"Time taken: \" << elapsed.count() << \" ms\\n\";"
   ]
  },
  {
   "attachments": {},
   "cell_type": "markdown",
   "id": "01e11342-4ab4-44ce-9480-ee9e9caca0de",
   "metadata": {},
   "source": [
    "We can override the previous implementation for the new `Accelerator` device and provide an implementation that is tailored to the hardware. In this hypothetical case we just provide a more efficient implementation of the same incrementation operation:"
   ]
  },
  {
   "cell_type": "code",
   "execution_count": 9,
   "id": "446179d8-a1d4-4979-bcce-1dc389016f5b",
   "metadata": {},
   "outputs": [],
   "source": [
    "template <typename SPEC>\n",
    "void increment_first_element(Accelerator& device, backprop_tools::Matrix<SPEC>& matrix){\n",
    "    using TI = DEVICE::index_t;\n",
    "    static_assert(SPEC::ROWS >= 1);\n",
    "    static_assert(SPEC::COLS >= 1);\n",
    "    bpt::increment(matrix, 0, 0, 10000000);\n",
    "}"
   ]
  },
  {
   "attachments": {},
   "cell_type": "markdown",
   "id": "01474e3c-5a60-4fc0-a9af-d0c58e04fadf",
   "metadata": {},
   "source": [
    "Executing this implementation on the same datastructure but using `device_2` yields a significant speedup:"
   ]
  },
  {
   "cell_type": "code",
   "execution_count": 10,
   "id": "259e1b10-b8eb-4f55-8e5a-0a8cc9120225",
   "metadata": {},
   "outputs": [
    {
     "name": "stdout",
     "output_type": "stream",
     "text": [
      "Time taken: 0.000480 ms\n"
     ]
    }
   ],
   "source": [
    "bpt::set_all(device_2, m, 0);\n",
    "auto start = std::chrono::high_resolution_clock::now();\n",
    "increment_first_element(device_2, m);\n",
    "auto end = std::chrono::high_resolution_clock::now();\n",
    "std::chrono::duration<double, std::milli> elapsed = end - start;\n",
    "std::cout << \"Time taken: \" << elapsed.count() << \" ms\\n\";"
   ]
  },
  {
   "attachments": {},
   "cell_type": "markdown",
   "id": "a9150853-59b5-4a97-9c63-9884b4f4f870",
   "metadata": {},
   "source": [
    "Now that we have seen how primitives can be tailored to devices using multiple dispatch and specific implementations, we want to use them in higher-level, more abstract algorithms that are agnostic to the hardware they are running on as long as the primitive operations behave the same:"
   ]
  },
  {
   "cell_type": "code",
   "execution_count": 11,
   "id": "9f780789-2197-4099-8720-216138c9de63",
   "metadata": {},
   "outputs": [],
   "source": [
    "template <typename DEVICE, typename SPEC>\n",
    "void algorithm(DEVICE& device, backprop_tools::Matrix<SPEC>& matrix){\n",
    "    using TI = typename DEVICE::index_t;\n",
    "    for(TI i=0; i < 5; i++){\n",
    "        increment_first_element(device, matrix);\n",
    "    }\n",
    "}"
   ]
  },
  {
   "cell_type": "code",
   "execution_count": 12,
   "id": "35b2c181-9e00-4926-9aa4-24818826ea1b",
   "metadata": {},
   "outputs": [
    {
     "name": "stdout",
     "output_type": "stream",
     "text": [
      "Time taken: 588.734812 ms\n"
     ]
    }
   ],
   "source": [
    "auto start = std::chrono::high_resolution_clock::now();\n",
    "algorithm(device_1, m);\n",
    "auto end = std::chrono::high_resolution_clock::now();\n",
    "std::chrono::duration<double, std::milli> elapsed = end - start;\n",
    "std::cout << \"Time taken: \" << elapsed.count() << \" ms\\n\";"
   ]
  },
  {
   "cell_type": "code",
   "execution_count": 13,
   "id": "461cf7fa-ae5d-4c42-bb4b-e7080e88845f",
   "metadata": {},
   "outputs": [
    {
     "name": "stdout",
     "output_type": "stream",
     "text": [
      "Time taken: 0.000806 ms\n"
     ]
    }
   ],
   "source": [
    "auto start = std::chrono::high_resolution_clock::now();\n",
    "algorithm(device_2, m);\n",
    "auto end = std::chrono::high_resolution_clock::now();\n",
    "std::chrono::duration<double, std::milli> elapsed = end - start;\n",
    "std::cout << \"Time taken: \" << elapsed.count() << \" ms\\n\";"
   ]
  },
  {
   "attachments": {},
   "cell_type": "markdown",
   "id": "0ac8575e-93ba-4781-bcee-6f7f100efc33",
   "metadata": {},
   "source": [
    "In practice we provide generic implementations in pure C++ for all deep learning and reinforcement learning operators that do not depend on specific device capabilities. These naive implementations can be quite slow (e.g. for large matrix multiplication) hence we provide specialized implementations that are dispatched to by including the appropriate operations for that device and then calling all algorithms with the specialized device type. For example the Intel MKL library provides implementations of matrix multiplication that is tailored to Intel processors and their vector extensions (e.g. AVX). Hence in that case we would includ `#include <backprop_tools/operations/cpu_mkl.h>` which uses all the generic or CPU implementations available in BackpropTools but overloads the forward and backward passes of neural networks to dispatch to the fast matrix multiplication implementations. Moreover, it also overloads the `backprop_tools::malloc` to align the container memory to 64 byte boundaries which makes the loading and storing from and to memory more efficient through aggregation of multiple loads and stores. "
   ]
  },
  {
   "attachments": {},
   "cell_type": "markdown",
   "id": "3eb03c00-50c5-4666-b4b9-4d820c4b7756",
   "metadata": {},
   "source": [
    "We prefer static multiple dispatch in the way shown before over C++ method overriding because the latter requires an implicit method lookup through the [Virtual Method Table (VMT)](https://en.wikipedia.org/wiki/Virtual_method_table) at runtime. In contrast, static multiple dispatch allows the compiler to do the dispatch at compile time and hence incur no runtime overhead while also being able to aggressively integrate and optimize the modules. This is especially beneficial on accelerators like GPUs. "
   ]
  }
 ],
 "metadata": {
  "kernelspec": {
   "display_name": "C++17",
   "language": "C++17",
   "name": "xcpp17"
  },
  "language_info": {
   "codemirror_mode": "text/x-c++src",
   "file_extension": ".cpp",
   "mimetype": "text/x-c++src",
   "name": "c++",
   "version": "17"
  }
 },
 "nbformat": 4,
 "nbformat_minor": 5
}
