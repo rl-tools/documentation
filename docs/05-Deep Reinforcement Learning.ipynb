{
 "cells": [
  {
   "cell_type": "markdown",
   "id": "31dc40bf-8ee3-4054-8b72-de591f8f3a70",
   "metadata": {},
   "source": [
    "# Deep Reinforcement Learning"
   ]
  },
  {
   "cell_type": "code",
   "execution_count": 1,
   "id": "40e20876-d9a2-4352-bf81-009d6807d53a",
   "metadata": {},
   "outputs": [],
   "source": [
    "#include <backprop_tools/operations/cpu.h>\n",
    "#include <backprop_tools/nn/operations_cpu.h>\n",
    "#include <backprop_tools/rl/environments/operations_generic.h>\n",
    "#include <backprop_tools/nn_models/operations_cpu.h>\n",
    "#include <backprop_tools/rl/operations_generic.h>\n",
    "namespace bpt = backprop_tools;"
   ]
  },
  {
   "cell_type": "code",
   "execution_count": 2,
   "id": "b46e535d-f254-4743-88a9-a1778d6899b4",
   "metadata": {},
   "outputs": [],
   "source": [
    "#include <backprop_tools/rl/utils/evaluation.h>"
   ]
  },
  {
   "cell_type": "code",
   "execution_count": 3,
   "id": "d92308be-e173-4f41-84c6-0c0c03ebcd4e",
   "metadata": {},
   "outputs": [],
   "source": [
    "using T = float;\n",
    "using DEVICE = bpt::devices::DefaultCPU;\n",
    "using TI = typename DEVICE::index_t;"
   ]
  },
  {
   "cell_type": "code",
   "execution_count": 4,
   "id": "344e8433-8249-4740-8180-5fadadea8a13",
   "metadata": {},
   "outputs": [],
   "source": [
    "using ENVIRONMENT_PARAMETERS = bpt::rl::environments::pendulum::DefaultParameters<T>;\n",
    "using ENVIRONMENT_SPEC = bpt::rl::environments::pendulum::Specification<T, TI, ENVIRONMENT_PARAMETERS>;\n",
    "using ENVIRONMENT = bpt::rl::environments::Pendulum<ENVIRONMENT_SPEC>;"
   ]
  },
  {
   "cell_type": "code",
   "execution_count": 5,
   "id": "abef06db-0ffa-4d57-a9c4-997acc5928de",
   "metadata": {},
   "outputs": [],
   "source": [
    "struct TD3_PENDULUM_PARAMETERS: bpt::rl::algorithms::td3::DefaultParameters<T, TI>{\n",
    "    constexpr static typename DEVICE::index_t CRITIC_BATCH_SIZE = 100;\n",
    "    constexpr static typename DEVICE::index_t ACTOR_BATCH_SIZE = 100;\n",
    "};\n",
    "constexpr TI STEP_LIMIT = 10000;\n",
    "constexpr TI REPLAY_BUFFER_CAP = STEP_LIMIT;\n",
    "constexpr int N_WARMUP_STEPS = TD3_PENDULUM_PARAMETERS::ACTOR_BATCH_SIZE;\n",
    "constexpr TI EPISODE_STEP_LIMIT = 200;\n",
    "constexpr TI ACTOR_NUM_LAYERS = 3;\n",
    "constexpr TI ACTOR_HIDDEN_DIM = 64;\n",
    "constexpr TI CRITIC_NUM_LAYERS = 3;\n",
    "constexpr TI CRITIC_HIDDEN_DIM = 64;\n",
    "constexpr auto ACTOR_ACTIVATION_FUNCTION = bpt::nn::activation_functions::RELU;\n",
    "constexpr auto CRITIC_ACTIVATION_FUNCTION = bpt::nn::activation_functions::RELU;\n",
    "constexpr auto ACTOR_ACTIVATION_FUNCTION_OUTPUT = bpt::nn::activation_functions::TANH;\n",
    "constexpr auto CRITIC_ACTIVATION_FUNCTION_OUTPUT = bpt::nn::activation_functions::IDENTITY;\n",
    "using TD3_PARAMETERS = TD3_PENDULUM_PARAMETERS;"
   ]
  },
  {
   "cell_type": "code",
   "execution_count": 6,
   "id": "c0b8df8b-e8ef-4e06-a8ec-049ecb03559b",
   "metadata": {},
   "outputs": [],
   "source": [
    "using ACTOR_STRUCTURE_SPEC = bpt::nn_models::mlp::StructureSpecification<T, TI, ENVIRONMENT::OBSERVATION_DIM, ENVIRONMENT::ACTION_DIM, ACTOR_NUM_LAYERS, ACTOR_HIDDEN_DIM, ACTOR_ACTIVATION_FUNCTION, ACTOR_ACTIVATION_FUNCTION_OUTPUT, TD3_PARAMETERS::ACTOR_BATCH_SIZE>;\n",
    "using CRITIC_STRUCTURE_SPEC = bpt::nn_models::mlp::StructureSpecification<T, TI, ENVIRONMENT::OBSERVATION_DIM + ENVIRONMENT::ACTION_DIM, 1, CRITIC_NUM_LAYERS, CRITIC_HIDDEN_DIM, CRITIC_ACTIVATION_FUNCTION, CRITIC_ACTIVATION_FUNCTION_OUTPUT, TD3_PARAMETERS::CRITIC_BATCH_SIZE>;\n",
    "using OPTIMIZER_PARAMETERS = typename bpt::nn::optimizers::adam::DefaultParametersTorch<T>;\n",
    "\n",
    "using OPTIMIZER = bpt::nn::optimizers::Adam<OPTIMIZER_PARAMETERS>;\n",
    "using ACTOR_NETWORK_SPEC = bpt::nn_models::mlp::AdamSpecification<ACTOR_STRUCTURE_SPEC>;\n",
    "using ACTOR_NETWORK_TYPE = bpt::nn_models::mlp::NeuralNetworkAdam<ACTOR_NETWORK_SPEC>;\n",
    "\n",
    "using ACTOR_TARGET_NETWORK_SPEC = bpt::nn_models::mlp::InferenceSpecification<ACTOR_STRUCTURE_SPEC>;\n",
    "using ACTOR_TARGET_NETWORK_TYPE = backprop_tools::nn_models::mlp::NeuralNetwork<ACTOR_TARGET_NETWORK_SPEC>;\n",
    "\n",
    "using CRITIC_NETWORK_SPEC = bpt::nn_models::mlp::AdamSpecification<CRITIC_STRUCTURE_SPEC>;\n",
    "using CRITIC_NETWORK_TYPE = backprop_tools::nn_models::mlp::NeuralNetworkAdam<CRITIC_NETWORK_SPEC>;\n",
    "\n",
    "using CRITIC_TARGET_NETWORK_SPEC = backprop_tools::nn_models::mlp::InferenceSpecification<CRITIC_STRUCTURE_SPEC>;\n",
    "using CRITIC_TARGET_NETWORK_TYPE = backprop_tools::nn_models::mlp::NeuralNetwork<CRITIC_TARGET_NETWORK_SPEC>;\n",
    "\n",
    "using TD3_SPEC = bpt::rl::algorithms::td3::Specification<T, DEVICE::index_t, ENVIRONMENT, ACTOR_NETWORK_TYPE, ACTOR_TARGET_NETWORK_TYPE, CRITIC_NETWORK_TYPE, CRITIC_TARGET_NETWORK_TYPE, TD3_PARAMETERS>;\n",
    "using ACTOR_CRITIC_TYPE = bpt::rl::algorithms::td3::ActorCritic<TD3_SPEC>;\n",
    "\n",
    "using OFF_POLICY_RUNNER_SPEC = bpt::rl::components::off_policy_runner::Specification<\n",
    "    T,\n",
    "    TI,\n",
    "    ENVIRONMENT,\n",
    "    1,\n",
    "    REPLAY_BUFFER_CAP,\n",
    "    EPISODE_STEP_LIMIT,\n",
    "    bpt::rl::components::off_policy_runner::DefaultParameters<T>\n",
    ">;\n",
    "using OFF_POLICY_RUNNER_TYPE = bpt::rl::components::OffPolicyRunner<OFF_POLICY_RUNNER_SPEC>;"
   ]
  },
  {
   "cell_type": "code",
   "execution_count": 7,
   "id": "fedbb450-e6ac-475d-8efd-d8df462d4376",
   "metadata": {},
   "outputs": [],
   "source": [
    "static_assert(ACTOR_CRITIC_TYPE::SPEC::PARAMETERS::ACTOR_BATCH_SIZE == ACTOR_CRITIC_TYPE::SPEC::PARAMETERS::CRITIC_BATCH_SIZE);"
   ]
  },
  {
   "cell_type": "code",
   "execution_count": 8,
   "id": "407be352-6451-48b2-a229-e395dd094f05",
   "metadata": {},
   "outputs": [],
   "source": [
    "DEVICE device;\n",
    "OPTIMIZER optimizer;\n",
    "auto rng = bpt::random::default_engine(typename DEVICE::SPEC::RANDOM{}, 1);\n",
    "bool ui = false;"
   ]
  },
  {
   "cell_type": "code",
   "execution_count": 9,
   "id": "a4cf4cdb-595f-45fe-a387-0bc32748ca2c",
   "metadata": {},
   "outputs": [],
   "source": [
    "ACTOR_CRITIC_TYPE actor_critic;\n",
    "bpt::malloc(device, actor_critic);\n",
    "bpt::init(device, actor_critic, optimizer, rng);"
   ]
  },
  {
   "cell_type": "code",
   "execution_count": 10,
   "id": "45fdd0c8-4935-464c-8896-899954698a34",
   "metadata": {},
   "outputs": [],
   "source": [
    "OFF_POLICY_RUNNER_TYPE off_policy_runner;\n",
    "bpt::malloc(device, off_policy_runner);\n",
    "ENVIRONMENT envs[decltype(off_policy_runner)::N_ENVIRONMENTS];\n",
    "bpt::init(device, off_policy_runner, envs);"
   ]
  },
  {
   "cell_type": "code",
   "execution_count": 11,
   "id": "c8e87260-a14b-45d5-8a5b-ea88a48d35b5",
   "metadata": {},
   "outputs": [],
   "source": [
    "OFF_POLICY_RUNNER_TYPE::Batch<TD3_PARAMETERS::CRITIC_BATCH_SIZE> critic_batch;\n",
    "bpt::rl::algorithms::td3::CriticTrainingBuffers<ACTOR_CRITIC_TYPE::SPEC> critic_training_buffers;\n",
    "CRITIC_NETWORK_TYPE::BuffersForwardBackward<ACTOR_CRITIC_TYPE::SPEC::PARAMETERS::CRITIC_BATCH_SIZE> critic_buffers[2];\n",
    "bpt::malloc(device, critic_batch);\n",
    "bpt::malloc(device, critic_training_buffers);\n",
    "bpt::malloc(device, critic_buffers[0]);\n",
    "bpt::malloc(device, critic_buffers[1]);"
   ]
  },
  {
   "cell_type": "code",
   "execution_count": 12,
   "id": "955bb7a4-0a69-4a47-bea3-8091893ed640",
   "metadata": {},
   "outputs": [],
   "source": [
    "OFF_POLICY_RUNNER_TYPE::Batch<TD3_PARAMETERS::ACTOR_BATCH_SIZE> actor_batch;\n",
    "bpt::rl::algorithms::td3::ActorTrainingBuffers<ACTOR_CRITIC_TYPE::SPEC> actor_training_buffers;\n",
    "ACTOR_NETWORK_TYPE::Buffers<ACTOR_CRITIC_TYPE::SPEC::PARAMETERS::ACTOR_BATCH_SIZE> actor_buffers[2];\n",
    "ACTOR_NETWORK_TYPE::Buffers<OFF_POLICY_RUNNER_SPEC::N_ENVIRONMENTS> actor_buffers_eval;\n",
    "bpt::malloc(device, actor_batch);\n",
    "bpt::malloc(device, actor_training_buffers);\n",
    "bpt::malloc(device, actor_buffers_eval);\n",
    "bpt::malloc(device, actor_buffers[0]);\n",
    "bpt::malloc(device, actor_buffers[1]);"
   ]
  },
  {
   "cell_type": "code",
   "execution_count": 13,
   "id": "57f4810f-326f-4f7d-9c2c-e74fa51e3773",
   "metadata": {},
   "outputs": [],
   "source": [
    "bpt::MatrixDynamic<bpt::matrix::Specification<T, TI, 1, ENVIRONMENT::OBSERVATION_DIM>> observations_mean;\n",
    "bpt::MatrixDynamic<bpt::matrix::Specification<T, TI, 1, ENVIRONMENT::OBSERVATION_DIM>> observations_std;\n",
    "bpt::malloc(device, observations_mean);\n",
    "bpt::malloc(device, observations_std);\n",
    "bpt::set_all(device, observations_mean, 0);\n",
    "bpt::set_all(device, observations_std, 1);"
   ]
  },
  {
   "cell_type": "code",
   "execution_count": null,
   "id": "38258670-2ee3-421f-a356-672c9ac15574",
   "metadata": {},
   "outputs": [
    {
     "name": "stdout",
     "output_type": "stream",
     "text": [
      "step_i: 110 1.30728s\n",
      "step_i: 120 2.77668s\n",
      "step_i: 130 4.24598s\n",
      "step_i: 140 5.71569s\n",
      "step_i: 150 7.18474s\n",
      "step_i: 160 8.65406s\n",
      "step_i: 170 10.1265s\n",
      "step_i: 180 11.5968s\n"
     ]
    }
   ],
   "source": [
    "auto start_time = std::chrono::high_resolution_clock::now();\n",
    "\n",
    "for(int step_i = 0; step_i < STEP_LIMIT; step_i+=OFF_POLICY_RUNNER_SPEC::N_ENVIRONMENTS){\n",
    "    bpt::set_step(device, device.logger, step_i);\n",
    "    bpt::step(device, off_policy_runner, actor_critic.actor, actor_buffers_eval, rng);\n",
    "\n",
    "    if(step_i > N_WARMUP_STEPS){\n",
    "        if(step_i % 10 == 0){\n",
    "            auto current_time = std::chrono::high_resolution_clock::now();\n",
    "            std::chrono::duration<double> elapsed_seconds = current_time - start_time;\n",
    "            std::cout << \"step_i: \" << step_i << \" \" << elapsed_seconds.count() << \"s\" << std::endl;\n",
    "        }\n",
    "\n",
    "        for(int critic_i = 0; critic_i < 2; critic_i++){\n",
    "            bpt::target_action_noise(device, actor_critic, critic_training_buffers.target_next_action_noise, rng);\n",
    "            bpt::gather_batch(device, off_policy_runner, critic_batch, rng);\n",
    "            bpt::train_critic(device, actor_critic, critic_i == 0 ? actor_critic.critic_1 : actor_critic.critic_2, critic_batch, optimizer, actor_buffers[critic_i], critic_buffers[critic_i], critic_training_buffers);\n",
    "        }\n",
    "\n",
    "//            T critic_1_loss = bpt::train_critic(device, actor_critic, actor_critic.critic_1, off_policy_runner.replay_buffer, rng);\n",
    "//            bpt::train_critic(device, actor_critic, actor_critic.critic_2, off_policy_runner.replay_buffer, rng);\n",
    "//            std::cout << \"Critic 1 loss: \" << critic_1_loss << std::endl;\n",
    "        if(step_i % 2 == 0){\n",
    "            {\n",
    "                bpt::gather_batch(device, off_policy_runner, actor_batch, rng);\n",
    "                bpt::train_actor(device, actor_critic, actor_batch, optimizer, actor_buffers[0], critic_buffers[0], actor_training_buffers);\n",
    "            }\n",
    "\n",
    "            bpt::update_critic_targets(device, actor_critic);\n",
    "            bpt::update_actor_target(device, actor_critic);\n",
    "        }\n",
    "    }\n",
    "// #ifndef BACKPROP_TOOLS_RL_ENVIRONMENTS_PENDULUM_DISABLE_EVALUATION\n",
    "//     if(step_i % 1000 == 0){\n",
    "// //            auto result = bpt::evaluate(device, envs[0], ui, actor_critic.actor, bpt::rl::utils::evaluation::Specification<1, EPISODE_STEP_LIMIT>(), rng, true);\n",
    "//         auto result = bpt::evaluate(device, envs[0], ui, actor_critic.actor, bpt::rl::utils::evaluation::Specification<10, EPISODE_STEP_LIMIT>(), observations_mean, observations_std, rng);\n",
    "//         std::cout << \"Mean return: \" << result.mean << std::endl;\n",
    "//         bpt::add_scalar(device, device.logger, \"mean_return\", result.mean);\n",
    "// //            if(step_i >= 6000){\n",
    "// //                ASSERT_GT(mean_return, -1000);\n",
    "// //            }\n",
    "// //            if(step_i >= 14000){\n",
    "// //                ASSERT_GT(mean_return, -400);\n",
    "// //            }\n",
    "//     }\n",
    "// #endif\n",
    "}\n"
   ]
  }
 ],
 "metadata": {
  "kernelspec": {
   "display_name": "C++17",
   "language": "C++17",
   "name": "xcpp17"
  },
  "language_info": {
   "codemirror_mode": "text/x-c++src",
   "file_extension": ".cpp",
   "mimetype": "text/x-c++src",
   "name": "c++",
   "version": "17"
  }
 },
 "nbformat": 4,
 "nbformat_minor": 5
}
