{
 "cells": [
  {
   "cell_type": "markdown",
   "id": "35be4a2e-8892-4fee-8965-1bcb1c1a042a",
   "metadata": {},
   "source": [
    "# C++ Basics"
   ]
  },
  {
   "cell_type": "code",
   "execution_count": 1,
   "id": "208cc2a0-424f-4852-8667-de2f9ff5a17e",
   "metadata": {},
   "outputs": [],
   "source": [
    "#include <string>\n",
    "#include <iostream>"
   ]
  },
  {
   "cell_type": "markdown",
   "id": "2a2c7a4b-5156-407e-aaa6-24f08460e194",
   "metadata": {},
   "source": [
    "## Templates"
   ]
  },
  {
   "cell_type": "code",
   "execution_count": 2,
   "id": "c8c486f1-520f-4933-9e35-941a335690b2",
   "metadata": {},
   "outputs": [],
   "source": [
    "template <typename T>\n",
    "T div(T x){\n",
    "    return x / 2;\n",
    "}"
   ]
  },
  {
   "cell_type": "code",
   "execution_count": 3,
   "id": "3da5db88-3482-4d07-bd5f-aad0209e06da",
   "metadata": {},
   "outputs": [
    {
     "data": {
      "text/plain": [
       "0"
      ]
     },
     "execution_count": 3,
     "metadata": {},
     "output_type": "execute_result"
    }
   ],
   "source": [
    "div(1)"
   ]
  },
  {
   "cell_type": "code",
   "execution_count": 4,
   "id": "f2b51b2a-3a09-4e92-8e5d-e953c7687686",
   "metadata": {},
   "outputs": [
    {
     "data": {
      "text/plain": [
       "0.50000000"
      ]
     },
     "execution_count": 4,
     "metadata": {},
     "output_type": "execute_result"
    }
   ],
   "source": [
    "div(1.0)"
   ]
  },
  {
   "cell_type": "code",
   "execution_count": 5,
   "id": "d773413b-99e1-495c-abfd-e5fbdbf6a067",
   "metadata": {},
   "outputs": [],
   "source": [
    "template <typename T>\n",
    "auto get_id(T x){\n",
    "    return x.id;\n",
    "}"
   ]
  },
  {
   "cell_type": "code",
   "execution_count": 6,
   "id": "1629e02e-2eb8-4461-82be-99f3e3d951e7",
   "metadata": {},
   "outputs": [],
   "source": [
    "struct A{\n",
    "    int id = 10;\n",
    "};\n",
    "struct B{\n",
    "    std::string id = \"20\";\n",
    "};\n",
    "A a;\n",
    "B b;"
   ]
  },
  {
   "cell_type": "code",
   "execution_count": 7,
   "id": "330e6183-55ac-44d0-bc0f-f45e8c4ec2a2",
   "metadata": {},
   "outputs": [
    {
     "name": "stdout",
     "output_type": "stream",
     "text": [
      "Id A: 10\n"
     ]
    }
   ],
   "source": [
    "\n",
    "std::cout << \"Id A: \" << get_id(a) << std::endl;"
   ]
  },
  {
   "cell_type": "code",
   "execution_count": 8,
   "id": "f554a9d4-137c-4518-8674-f8bd4cc18ba6",
   "metadata": {},
   "outputs": [
    {
     "name": "stdout",
     "output_type": "stream",
     "text": [
      "Id B: 20\n"
     ]
    }
   ],
   "source": [
    "std::cout << \"Id B: \" << get_id(b) << std::endl;"
   ]
  },
  {
   "cell_type": "markdown",
   "id": "2acbe2a9-416e-4492-93c2-b961ccb11bcd",
   "metadata": {},
   "source": [
    "## Overloading"
   ]
  },
  {
   "cell_type": "code",
   "execution_count": 9,
   "id": "5c1a7305-4cc9-4a40-94ff-b534e1062fee",
   "metadata": {},
   "outputs": [],
   "source": [
    "void append_zero(A& x){\n",
    "    x.id *= 10;\n",
    "}"
   ]
  },
  {
   "cell_type": "code",
   "execution_count": 10,
   "id": "9019f2b6-8ac0-4575-83e5-77e37f41707e",
   "metadata": {},
   "outputs": [],
   "source": [
    "void append_zero(B& x){\n",
    "    x.id += \"0\";\n",
    "}"
   ]
  },
  {
   "cell_type": "code",
   "execution_count": 11,
   "id": "dd118b1f-cd0e-42ed-b673-992afd72d7ef",
   "metadata": {},
   "outputs": [
    {
     "name": "stdout",
     "output_type": "stream",
     "text": [
      "100\n"
     ]
    }
   ],
   "source": [
    "append_zero(a);\n",
    "std::cout << get_id(a) << std::endl;"
   ]
  },
  {
   "cell_type": "code",
   "execution_count": 12,
   "id": "044e2fef-6395-4439-ae56-0669c5099c5a",
   "metadata": {},
   "outputs": [
    {
     "name": "stdout",
     "output_type": "stream",
     "text": [
      "200\n"
     ]
    }
   ],
   "source": [
    "append_zero(b);\n",
    "std::cout << get_id(b) << std::endl;"
   ]
  },
  {
   "cell_type": "markdown",
   "id": "ba019376-46a9-4548-bcd1-da045f6b5a59",
   "metadata": {},
   "source": [
    "## Combining them"
   ]
  },
  {
   "cell_type": "code",
   "execution_count": 13,
   "id": "00d5fdfb-ad4a-4f84-a4ea-fe18334c054a",
   "metadata": {},
   "outputs": [],
   "source": [
    "template <typename T>\n",
    "struct ConstantPolicy{\n",
    "    T c = 0.5;\n",
    "};\n",
    "template <typename T>\n",
    "struct AffinePolicy{\n",
    "    T m = 2, b = 3;\n",
    "};"
   ]
  },
  {
   "cell_type": "code",
   "execution_count": 14,
   "id": "c02696b1-ee60-4e8d-afa5-1db8df60646f",
   "metadata": {},
   "outputs": [],
   "source": [
    "template <typename T>\n",
    "T evaluate(const ConstantPolicy<T>& p, T x){\n",
    "    return p.c;\n",
    "}\n",
    "template <typename T>\n",
    "T evaluate(const AffinePolicy<T>& p, T x){\n",
    "    return p.m * x + p.b;\n",
    "}"
   ]
  },
  {
   "cell_type": "code",
   "execution_count": 15,
   "id": "2023c417-7526-4853-a15a-435584a81d3d",
   "metadata": {},
   "outputs": [
    {
     "name": "stdout",
     "output_type": "stream",
     "text": [
      "Constant Policy: 0.5\n",
      "Affine Policy: 7\n"
     ]
    }
   ],
   "source": [
    "using T = float;\n",
    "ConstantPolicy<T> constant_policy;\n",
    "AffinePolicy<T> affine_policy;\n",
    "T x = 2;\n",
    "std::cout << \"Constant Policy: \" << evaluate(constant_policy, x) << std::endl;\n",
    "std::cout << \"Affine Policy: \" << evaluate(affine_policy, x) << std::endl;"
   ]
  },
  {
   "cell_type": "code",
   "execution_count": 16,
   "id": "2799e265-f185-4996-b919-fc0986154647",
   "metadata": {},
   "outputs": [],
   "source": [
    "template <typename T, typename POLICY>\n",
    "T algorithm(const POLICY policy, T input){\n",
    "    return evaluate(policy, evaluate(policy, input));\n",
    "}"
   ]
  },
  {
   "cell_type": "code",
   "execution_count": 17,
   "id": "345bd19a-8d83-4c88-aeb7-7734045a65ae",
   "metadata": {},
   "outputs": [
    {
     "name": "stdout",
     "output_type": "stream",
     "text": [
      "Algorithm [Constant Policy]: 0.5\n",
      "Algorithm [Affine Policy]: 17\n"
     ]
    }
   ],
   "source": [
    "std::cout << \"Algorithm [Constant Policy]: \" << algorithm(constant_policy, x) << std::endl;\n",
    "std::cout << \"Algorithm [Affine Policy]: \" << algorithm(affine_policy, x) << std::endl; "
   ]
  }
 ],
 "metadata": {
  "kernelspec": {
   "display_name": "C++17",
   "language": "C++17",
   "name": "xcpp17"
  },
  "language_info": {
   "codemirror_mode": "text/x-c++src",
   "file_extension": ".cpp",
   "mimetype": "text/x-c++src",
   "name": "c++",
   "version": "17"
  }
 },
 "nbformat": 4,
 "nbformat_minor": 5
}
